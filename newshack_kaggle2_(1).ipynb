{
  "nbformat": 4,
  "nbformat_minor": 0,
  "metadata": {
    "colab": {
      "name": "newshack_kaggle2 (1).ipynb",
      "version": "0.3.2",
      "provenance": [],
      "collapsed_sections": [],
      "toc_visible": true
    },
    "kernelspec": {
      "display_name": "Python 3.5",
      "language": "python",
      "name": "python3"
    }
  },
  "cells": [
    {
      "metadata": {
        "_cell_guid": "79c7e3d0-c299-4dcb-8224-4455121ee9b0",
        "_uuid": "d629ff2d2480ee46fbb7e2d37f6b5fab8052498a",
        "collapsed": true,
        "id": "_2qxcnWknnpk",
        "colab_type": "text"
      },
      "cell_type": "markdown",
      "source": [
        "# Import the necessary libraries"
      ]
    },
    {
      "metadata": {
        "_uuid": "d6fb32fd69316596e236eab5fb8cf77c848508c3",
        "id": "CkKZaRnDnnqA",
        "colab_type": "code",
        "colab": {
          "base_uri": "https://localhost:8080/",
          "height": 34
        },
        "outputId": "a7e7d23d-7940-40c1-cdc2-71c4452371d0"
      },
      "cell_type": "code",
      "source": [
        "\n",
        "import pandas as pd\n",
        "import numpy as np\n",
        "import matplotlib.pyplot as plt\n",
        "import seaborn as sns\n",
        "from sklearn.model_selection import train_test_split\n",
        "from sklearn.preprocessing import LabelEncoder\n",
        "from keras.models import Model\n",
        "from keras.layers import LSTM, Activation, Dense, Dropout, Input, Embedding\n",
        "from keras.optimizers import RMSprop\n",
        "from keras.preprocessing.text import Tokenizer\n",
        "from keras.preprocessing import sequence\n",
        "from keras.utils import to_categorical\n",
        "from keras.callbacks import EarlyStopping\n",
        "import nltk\n",
        "from nltk.corpus import stopwords\n",
        "import gensim\n",
        "from gensim.models import LdaModel\n",
        "from gensim import models, corpora, similarities\n",
        "import re\n",
        "from nltk.stem.porter import PorterStemmer\n",
        "import time\n",
        "from nltk import FreqDist\n",
        "from scipy.stats import entropy\n",
        "from subprocess import check_output\n",
        "import io\n",
        "import matplotlib\n",
        "\n",
        "%matplotlib inline\n",
        "\n",
        "matplotlib.style.use('ggplot')\n",
        "sns.set_style(\"darkgrid\")"
      ],
      "execution_count": 1,
      "outputs": [
        {
          "output_type": "stream",
          "text": [
            "Using TensorFlow backend.\n"
          ],
          "name": "stderr"
        }
      ]
    },
    {
      "metadata": {
        "id": "omw7cbMf8RAA",
        "colab_type": "code",
        "colab": {
          "base_uri": "https://localhost:8080/",
          "height": 204
        },
        "outputId": "8e61932e-54ee-4f35-ecac-2318d511338c"
      },
      "cell_type": "code",
      "source": [
        "!wget 'https://dl.fbaipublicfiles.com/fasttext/vectors-english/crawl-300d-2M.vec.zip'"
      ],
      "execution_count": 3,
      "outputs": [
        {
          "output_type": "stream",
          "text": [
            "--2019-01-27 06:26:54--  https://dl.fbaipublicfiles.com/fasttext/vectors-english/crawl-300d-2M.vec.zip\n",
            "Resolving dl.fbaipublicfiles.com (dl.fbaipublicfiles.com)... 104.20.22.166, 104.20.6.166, 2606:4700:10::6814:6a6, ...\n",
            "Connecting to dl.fbaipublicfiles.com (dl.fbaipublicfiles.com)|104.20.22.166|:443... connected.\n",
            "HTTP request sent, awaiting response... 200 OK\n",
            "Length: 1523785255 (1.4G) [application/zip]\n",
            "Saving to: ‘crawl-300d-2M.vec.zip’\n",
            "\n",
            "crawl-300d-2M.vec.z 100%[===================>]   1.42G  47.3MB/s    in 30s     \n",
            "\n",
            "2019-01-27 06:27:24 (48.8 MB/s) - ‘crawl-300d-2M.vec.zip’ saved [1523785255/1523785255]\n",
            "\n"
          ],
          "name": "stdout"
        }
      ]
    },
    {
      "metadata": {
        "id": "dzUGlyPmnnqw",
        "colab_type": "code",
        "colab": {}
      },
      "cell_type": "code",
      "source": [
        "import io\n",
        "f = io.open(\"task1.train.txt\", mode=\"r\", encoding=\"utf-8\")"
      ],
      "execution_count": 0,
      "outputs": []
    },
    {
      "metadata": {
        "id": "RDUHwnyRnnrO",
        "colab_type": "code",
        "colab": {}
      },
      "cell_type": "code",
      "source": [
        "df = pd.DataFrame(columns=[\"text\",\"article_id\",\"propaganda\"])"
      ],
      "execution_count": 0,
      "outputs": []
    },
    {
      "metadata": {
        "id": "AZVFXRmPnnrw",
        "colab_type": "code",
        "colab": {}
      },
      "cell_type": "code",
      "source": [
        "lines = f.read().split(\"\\n\")"
      ],
      "execution_count": 0,
      "outputs": []
    },
    {
      "metadata": {
        "id": "gEP2R8pxnnr_",
        "colab_type": "code",
        "colab": {}
      },
      "cell_type": "code",
      "source": [
        "x = []\n",
        "for i in lines:\n",
        "    i = i.split(\"\\t\")\n",
        "    x.append(i)"
      ],
      "execution_count": 0,
      "outputs": []
    },
    {
      "metadata": {
        "id": "h1DVo8osnnsM",
        "colab_type": "code",
        "colab": {}
      },
      "cell_type": "code",
      "source": [
        "df = pd.DataFrame(x, columns=[\"text\",\"article_id\",\"propaganda\"])"
      ],
      "execution_count": 0,
      "outputs": []
    },
    {
      "metadata": {
        "id": "oNoXdLg4nnsU",
        "colab_type": "code",
        "colab": {
          "base_uri": "https://localhost:8080/",
          "height": 204
        },
        "outputId": "59d5ab39-fba4-4397-b628-578595422b1e"
      },
      "cell_type": "code",
      "source": [
        "df.head()"
      ],
      "execution_count": 9,
      "outputs": [
        {
          "output_type": "execute_result",
          "data": {
            "text/html": [
              "<div>\n",
              "<style scoped>\n",
              "    .dataframe tbody tr th:only-of-type {\n",
              "        vertical-align: middle;\n",
              "    }\n",
              "\n",
              "    .dataframe tbody tr th {\n",
              "        vertical-align: top;\n",
              "    }\n",
              "\n",
              "    .dataframe thead th {\n",
              "        text-align: right;\n",
              "    }\n",
              "</style>\n",
              "<table border=\"1\" class=\"dataframe\">\n",
              "  <thead>\n",
              "    <tr style=\"text-align: right;\">\n",
              "      <th></th>\n",
              "      <th>text</th>\n",
              "      <th>article_id</th>\n",
              "      <th>propaganda</th>\n",
              "    </tr>\n",
              "  </thead>\n",
              "  <tbody>\n",
              "    <tr>\n",
              "      <th>0</th>\n",
              "      <td>Et tu, Rhody?  A recent editorial in the Provi...</td>\n",
              "      <td>727600136</td>\n",
              "      <td>non-propaganda</td>\n",
              "    </tr>\n",
              "    <tr>\n",
              "      <th>1</th>\n",
              "      <td>A recent post in The Farmington Mirror — our t...</td>\n",
              "      <td>731714618</td>\n",
              "      <td>non-propaganda</td>\n",
              "    </tr>\n",
              "    <tr>\n",
              "      <th>2</th>\n",
              "      <td>President Donald Trump, as he often does while...</td>\n",
              "      <td>731714635</td>\n",
              "      <td>non-propaganda</td>\n",
              "    </tr>\n",
              "    <tr>\n",
              "      <th>3</th>\n",
              "      <td>February is Black History Month, and nothing l...</td>\n",
              "      <td>728627182</td>\n",
              "      <td>non-propaganda</td>\n",
              "    </tr>\n",
              "    <tr>\n",
              "      <th>4</th>\n",
              "      <td>The snow was so heavy, whipped up by gusting w...</td>\n",
              "      <td>728627443</td>\n",
              "      <td>non-propaganda</td>\n",
              "    </tr>\n",
              "  </tbody>\n",
              "</table>\n",
              "</div>"
            ],
            "text/plain": [
              "                                                text article_id  \\\n",
              "0  Et tu, Rhody?  A recent editorial in the Provi...  727600136   \n",
              "1  A recent post in The Farmington Mirror — our t...  731714618   \n",
              "2  President Donald Trump, as he often does while...  731714635   \n",
              "3  February is Black History Month, and nothing l...  728627182   \n",
              "4  The snow was so heavy, whipped up by gusting w...  728627443   \n",
              "\n",
              "       propaganda  \n",
              "0  non-propaganda  \n",
              "1  non-propaganda  \n",
              "2  non-propaganda  \n",
              "3  non-propaganda  \n",
              "4  non-propaganda  "
            ]
          },
          "metadata": {
            "tags": []
          },
          "execution_count": 9
        }
      ]
    },
    {
      "metadata": {
        "id": "8K9V8Zoknnsf",
        "colab_type": "code",
        "colab": {
          "base_uri": "https://localhost:8080/",
          "height": 68
        },
        "outputId": "b2814bd9-1a9f-4791-f4f7-32c2130dbd1d"
      },
      "cell_type": "code",
      "source": [
        "import nltk\n",
        "nltk.download('stopwords')"
      ],
      "execution_count": 10,
      "outputs": [
        {
          "output_type": "stream",
          "text": [
            "[nltk_data] Downloading package stopwords to /root/nltk_data...\n",
            "[nltk_data]   Unzipping corpora/stopwords.zip.\n"
          ],
          "name": "stdout"
        },
        {
          "output_type": "execute_result",
          "data": {
            "text/plain": [
              "True"
            ]
          },
          "metadata": {
            "tags": []
          },
          "execution_count": 10
        }
      ]
    },
    {
      "metadata": {
        "id": "vJA6L8lZnnss",
        "colab_type": "code",
        "colab": {}
      },
      "cell_type": "code",
      "source": [
        "import nltk\n",
        "import sklearn as sk\n",
        "import pandas as pd\n",
        "from bs4 import BeautifulSoup\n",
        "from nltk.corpus import stopwords\n",
        "stopWords = set(stopwords.words('english'))\n",
        "\n",
        "\n",
        "# MY STOPWORDS\n",
        "stopwords= set(['br', 'the', 'i', 'me', 'my', 'myself', 'we', 'our', 'ours', 'ourselves', 'you', \"you're\", \"you've\",\\\n",
        "            \"you'll\", \"you'd\", 'your', 'yours', 'yourself', 'yourselves', 'he', 'him', 'his', 'himself', \\\n",
        "            'she', \"she's\", 'her', 'hers', 'herself', 'it', \"it's\", 'its', 'itself', 'they', 'them', 'their',\\\n",
        "            'theirs', 'themselves', 'what', 'which', 'who', 'whom', 'this', 'that', \"that'll\", 'these', 'those', \\\n",
        "            'am', 'is', 'are', 'was', 'were', 'be', 'been', 'being', 'have', 'has', 'had', 'having', 'do', 'does', \\\n",
        "            'did', 'doing', 'a', 'an', 'the', 'and', 'but', 'if', 'or', 'because', 'as', 'until', 'while', 'of', \\\n",
        "            'at', 'by', 'for', 'with', 'about', 'against', 'between', 'into', 'through', 'during', 'before', 'after',\\\n",
        "            'above', 'below', 'to', 'from', 'up', 'down', 'in', 'out', 'on', 'off', 'over', 'under', 'again', 'further',\\\n",
        "            'then', 'once', 'here', 'there', 'when', 'where', 'why', 'how', 'all', 'any', 'both', 'each', 'few', 'more',\\\n",
        "            'most', 'other', 'some', 'such', 'only', 'own', 'same', 'so', 'than', 'too', 'very', \\\n",
        "            's', 't', 'can', 'will', 'just', 'don', \"don't\", 'should', \"should've\", 'now', 'd', 'll', 'm', 'o', 're', \\\n",
        "            've', 'y', 'ain', 'aren', \"aren't\", 'couldn', \"couldn't\", 'didn', \"didn't\", 'doesn', \"doesn't\", 'hadn',\\\n",
        "            \"hadn't\", 'hasn', \"hasn't\", 'haven', \"haven't\", 'isn', \"isn't\", 'ma', 'mightn', \"mightn't\", 'mustn',\\\n",
        "            \"mustn't\", 'needn', \"needn't\", 'shan', \"shan't\", 'shouldn', \"shouldn't\", 'wasn', \"wasn't\", 'weren', \"weren't\", \\\n",
        "            'won', \"won't\", 'wouldn', \"wouldn't\", \"no\", \"nor\",\"not\"])"
      ],
      "execution_count": 0,
      "outputs": []
    },
    {
      "metadata": {
        "id": "mqpVFOmknns0",
        "colab_type": "code",
        "colab": {
          "base_uri": "https://localhost:8080/",
          "height": 34
        },
        "outputId": "adb51381-c39c-40cc-987a-af3bcfcc7fb3"
      },
      "cell_type": "code",
      "source": [
        "# Combining all the above stundents \n",
        "from tqdm import tqdm\n",
        "preprocessed_text = []\n",
        "# tqdm is for printing the status bar\n",
        "for sentance in tqdm(df['text'].values):\n",
        "    sentance = re.sub(r\"http\\S+\", \"\", sentance)\n",
        "    sentance = BeautifulSoup(sentance, 'lxml').get_text()\n",
        "    #sentance = decontracted(sentance)\n",
        "    sentance = re.sub(\"\\S*\\d\\S*\", \"\", sentance).strip()\n",
        "    sentance = re.sub('[^A-Za-z]+', ' ', sentance)\n",
        "    # https://gist.github.com/sebleier/554280\n",
        "    sentance = ' '.join(e.lower() for e in sentance.split() if e.lower() not in stopwords)\n",
        "    preprocessed_text.append(sentance.strip())"
      ],
      "execution_count": 12,
      "outputs": [
        {
          "output_type": "stream",
          "text": [
            "100%|██████████| 35994/35994 [00:46<00:00, 774.15it/s]\n"
          ],
          "name": "stderr"
        }
      ]
    },
    {
      "metadata": {
        "id": "kVRBZgOunntC",
        "colab_type": "code",
        "colab": {}
      },
      "cell_type": "code",
      "source": [
        "df[\"text\"] = preprocessed_text"
      ],
      "execution_count": 0,
      "outputs": []
    },
    {
      "metadata": {
        "_uuid": "f674695f1742479cefdeec0e81ab469f7b6ec90f",
        "id": "4G5fUYy6nntr",
        "colab_type": "text"
      },
      "cell_type": "markdown",
      "source": [
        "### Load the data into Pandas dataframe"
      ]
    },
    {
      "metadata": {
        "id": "CD9w5y2Tnntu",
        "colab_type": "code",
        "colab": {
          "base_uri": "https://localhost:8080/",
          "height": 204
        },
        "outputId": "1516ee35-1584-4923-cc9d-18b50e6fd908"
      },
      "cell_type": "code",
      "source": [
        "df.head()"
      ],
      "execution_count": 14,
      "outputs": [
        {
          "output_type": "execute_result",
          "data": {
            "text/html": [
              "<div>\n",
              "<style scoped>\n",
              "    .dataframe tbody tr th:only-of-type {\n",
              "        vertical-align: middle;\n",
              "    }\n",
              "\n",
              "    .dataframe tbody tr th {\n",
              "        vertical-align: top;\n",
              "    }\n",
              "\n",
              "    .dataframe thead th {\n",
              "        text-align: right;\n",
              "    }\n",
              "</style>\n",
              "<table border=\"1\" class=\"dataframe\">\n",
              "  <thead>\n",
              "    <tr style=\"text-align: right;\">\n",
              "      <th></th>\n",
              "      <th>text</th>\n",
              "      <th>article_id</th>\n",
              "      <th>propaganda</th>\n",
              "    </tr>\n",
              "  </thead>\n",
              "  <tbody>\n",
              "    <tr>\n",
              "      <th>0</th>\n",
              "      <td>et tu rhody recent editorial providence journa...</td>\n",
              "      <td>727600136</td>\n",
              "      <td>non-propaganda</td>\n",
              "    </tr>\n",
              "    <tr>\n",
              "      <th>1</th>\n",
              "      <td>recent post farmington mirror town version oni...</td>\n",
              "      <td>731714618</td>\n",
              "      <td>non-propaganda</td>\n",
              "    </tr>\n",
              "    <tr>\n",
              "      <th>2</th>\n",
              "      <td>president donald trump often responding natura...</td>\n",
              "      <td>731714635</td>\n",
              "      <td>non-propaganda</td>\n",
              "    </tr>\n",
              "    <tr>\n",
              "      <th>3</th>\n",
              "      <td>february black history month nothing looms lar...</td>\n",
              "      <td>728627182</td>\n",
              "      <td>non-propaganda</td>\n",
              "    </tr>\n",
              "    <tr>\n",
              "      <th>4</th>\n",
              "      <td>snow heavy whipped gusting winds travel nearly...</td>\n",
              "      <td>728627443</td>\n",
              "      <td>non-propaganda</td>\n",
              "    </tr>\n",
              "  </tbody>\n",
              "</table>\n",
              "</div>"
            ],
            "text/plain": [
              "                                                text article_id  \\\n",
              "0  et tu rhody recent editorial providence journa...  727600136   \n",
              "1  recent post farmington mirror town version oni...  731714618   \n",
              "2  president donald trump often responding natura...  731714635   \n",
              "3  february black history month nothing looms lar...  728627182   \n",
              "4  snow heavy whipped gusting winds travel nearly...  728627443   \n",
              "\n",
              "       propaganda  \n",
              "0  non-propaganda  \n",
              "1  non-propaganda  \n",
              "2  non-propaganda  \n",
              "3  non-propaganda  \n",
              "4  non-propaganda  "
            ]
          },
          "metadata": {
            "tags": []
          },
          "execution_count": 14
        }
      ]
    },
    {
      "metadata": {
        "_uuid": "53083ccecf39523cff290495a6cc768061ba9b46",
        "id": "8-NTftxtnnt5",
        "colab_type": "text"
      },
      "cell_type": "markdown",
      "source": [
        "Drop the columns that are not required for the neural network."
      ]
    },
    {
      "metadata": {
        "_uuid": "3c7060084470000f39a2dcc15b656586dcd6e9fd",
        "id": "VfHMbl_ennt9",
        "colab_type": "text"
      },
      "cell_type": "markdown",
      "source": [
        "Understand the distribution better."
      ]
    },
    {
      "metadata": {
        "_uuid": "a12002f521dd8eaeb0f69a932cbf23815ffd09d7",
        "id": "Hw39hpLWnnuA",
        "colab_type": "code",
        "colab": {
          "base_uri": "https://localhost:8080/",
          "height": 349
        },
        "outputId": "ba1c8d41-8d3a-4f6a-e17f-5fb5ffe89976"
      },
      "cell_type": "code",
      "source": [
        "sns.countplot(df.propaganda)\n",
        "plt.xlabel('propaganda')\n",
        "plt.title('Number of prp and nonprop news')"
      ],
      "execution_count": 15,
      "outputs": [
        {
          "output_type": "stream",
          "text": [
            "/usr/local/lib/python3.6/dist-packages/seaborn/categorical.py:1428: FutureWarning: remove_na is deprecated and is a private function. Do not use.\n",
            "  stat_data = remove_na(group_data)\n"
          ],
          "name": "stderr"
        },
        {
          "output_type": "execute_result",
          "data": {
            "text/plain": [
              "Text(0.5, 1.0, 'Number of prp and nonprop news')"
            ]
          },
          "metadata": {
            "tags": []
          },
          "execution_count": 15
        },
        {
          "output_type": "display_data",
          "data": {
            "image/png": "[encoded data removed]",
            "text/plain": [
              "<Figure size 432x288 with 1 Axes>"
            ]
          },
          "metadata": {
            "tags": []
          }
        }
      ]
    },
    {
      "metadata": {
        "id": "-yTPFyCVnnuQ",
        "colab_type": "code",
        "colab": {}
      },
      "cell_type": "code",
      "source": [
        "df = df.dropna()"
      ],
      "execution_count": 0,
      "outputs": []
    },
    {
      "metadata": {
        "id": "TS5Wu0NJAZoY",
        "colab_type": "code",
        "colab": {}
      },
      "cell_type": "code",
      "source": [
        ""
      ],
      "execution_count": 0,
      "outputs": []
    },
    {
      "metadata": {
        "_uuid": "353a8191f86c3a22843a729b5d4a5acefbf94be8",
        "id": "XJRVDvqjnnuX",
        "colab_type": "text"
      },
      "cell_type": "markdown",
      "source": [
        "* Create input and output vectors.\n",
        "* Process the labels."
      ]
    },
    {
      "metadata": {
        "id": "kMTLEZPOnnua",
        "colab_type": "code",
        "colab": {}
      },
      "cell_type": "code",
      "source": [
        "df['length'] = [len(text) for text in df['text']]"
      ],
      "execution_count": 0,
      "outputs": []
    },
    {
      "metadata": {
        "id": "Y7YMjFtNAdx2",
        "colab_type": "code",
        "colab": {}
      },
      "cell_type": "code",
      "source": [
        "df = df[df.length < 40000]"
      ],
      "execution_count": 0,
      "outputs": []
    },
    {
      "metadata": {
        "id": "9Jt6Y0vgnnuh",
        "colab_type": "code",
        "colab": {
          "base_uri": "https://localhost:8080/",
          "height": 170
        },
        "outputId": "065d2ebc-3e4d-4fcc-bfd8-0d4d5653882c"
      },
      "cell_type": "code",
      "source": [
        "df['length'].describe()"
      ],
      "execution_count": 25,
      "outputs": [
        {
          "output_type": "execute_result",
          "data": {
            "text/plain": [
              "count    35990.000000\n",
              "mean      2454.467519\n",
              "std       1992.363184\n",
              "min         23.000000\n",
              "25%       1197.000000\n",
              "50%       1977.000000\n",
              "75%       3189.000000\n",
              "max      34137.000000\n",
              "Name: length, dtype: float64"
            ]
          },
          "metadata": {
            "tags": []
          },
          "execution_count": 25
        }
      ]
    },
    {
      "metadata": {
        "_uuid": "a1a345c1683e2fcc7173ecae867a5da87f2dde24",
        "id": "uw6-1ANTnnuu",
        "colab_type": "code",
        "colab": {}
      },
      "cell_type": "code",
      "source": [
        "X = df.text\n",
        "Y = df.propaganda\n",
        "le = LabelEncoder()\n",
        "Y = le.fit_transform(Y)\n",
        "Y = Y.reshape(-1,1)"
      ],
      "execution_count": 0,
      "outputs": []
    },
    {
      "metadata": {
        "_uuid": "150e244a39b814d8a41bbe0e419bc5f28e457dd6",
        "id": "J0tijwO2nnu0",
        "colab_type": "text"
      },
      "cell_type": "markdown",
      "source": [
        "Split into training and test data."
      ]
    },
    {
      "metadata": {
        "_uuid": "aa3386af09469682c66cc53a1830a4e42f0e70b6",
        "scrolled": true,
        "id": "0_CebE0-nnu2",
        "colab_type": "code",
        "colab": {}
      },
      "cell_type": "code",
      "source": [
        "X_train,X_test,Y_train,Y_test = train_test_split(X,Y,test_size=0.15)"
      ],
      "execution_count": 0,
      "outputs": []
    },
    {
      "metadata": {
        "id": "kMXJ0hpVnnu9",
        "colab_type": "code",
        "colab": {}
      },
      "cell_type": "code",
      "source": [
        "#Embedding(vocab_size ,300,input_length=120)(inputs)"
      ],
      "execution_count": 0,
      "outputs": []
    },
    {
      "metadata": {
        "_uuid": "c5378d55c271e01480c1ac07f94ff99a80f900d6",
        "id": "vy1nDkXbnnvD",
        "colab_type": "text"
      },
      "cell_type": "markdown",
      "source": [
        "### Process the data\n",
        "* Tokenize the data and convert the text to sequences.\n",
        "* Add padding to ensure that all the sequences have the same shape.\n",
        "* There are many ways of taking the *max_len* and here an arbitrary length of 150 is chosen."
      ]
    },
    {
      "metadata": {
        "_uuid": "bdca14f2b8cd7bd7cb5ee66fd40ea522217c03c6",
        "id": "pIPQxHULnnvF",
        "colab_type": "code",
        "colab": {}
      },
      "cell_type": "code",
      "source": [
        "max_words = 100000 \n",
        "max_len = 500\n",
        "tok = Tokenizer(num_words=max_words)\n",
        "tok.fit_on_texts(X_train)\n",
        "sequences = tok.texts_to_sequences(X_train)\n",
        "sequences_matrix = sequence.pad_sequences(sequences,maxlen=max_len)"
      ],
      "execution_count": 0,
      "outputs": []
    },
    {
      "metadata": {
        "id": "fIY7nb9mnnvS",
        "colab_type": "text"
      },
      "cell_type": "markdown",
      "source": [
        "## Facebook Fasttext embedding"
      ]
    },
    {
      "metadata": {
        "id": "a0sBBklnnnvV",
        "colab_type": "code",
        "colab": {}
      },
      "cell_type": "code",
      "source": [
        "import numpy as np\n",
        "from gensim.models.keyedvectors import KeyedVectors\n",
        "import os\n",
        "\n",
        "\n",
        "class EmbedLoader:\n",
        "    \"\"\"\n",
        "    @author: Ahmad Barqawi\n",
        "    \"\"\"\n",
        "\n",
        "    def __init__(self):\n",
        "        pass\n",
        "\n",
        "    def get_embedding(self, embedding_file, embed_size):\n",
        "        embedding_index = {}\n",
        "        with open(embedding_file, encoding='utf8') as f:\n",
        "            for line in f:\n",
        "                values = line.rstrip().rsplit(' ')\n",
        "                # word = ' '.join(values[:-embed_size])\n",
        "                # coefs = np.asarray(values[-embed_size:], dtype='float32')\n",
        "                word = values[0]\n",
        "                coefs = np.asarray(values[1:], dtype='float32')\n",
        "                embedding_index[word] = coefs\n",
        "        f.close()\n",
        "\n",
        "        return embedding_index\n",
        "\n",
        "    def get_embedding2(self, embedding_file):\n",
        "        embeddings_index = dict(self._get_coefs(*o.rstrip().split(' ')) for o in open(embedding_file))\n",
        "        return embeddings_index\n",
        "\n",
        "    def _get_coefs(self,word, *arr):\n",
        "        return word, np.asarray(arr, dtype='float32')\n",
        "\n",
        "    def get_embedding_matrix(self, embedding_index, word_index, embed_size, max_features):\n",
        "\n",
        "        print(\"size word index: \" , len(word_index))\n",
        "        vocab_size = min(len(word_index), max_features) + 1\n",
        "        embedding_matrix = np.zeros((vocab_size, embed_size))\n",
        "\n",
        "        print(\"embedding_matrix shape: \", embedding_matrix.shape)\n",
        "\n",
        "        for word, index in word_index.items():\n",
        "            if index >= vocab_size:\n",
        "                continue\n",
        "            embedding_vector = embedding_index.get(word)\n",
        "            if embedding_vector is not None:\n",
        "                embedding_matrix[index] = embedding_vector\n",
        "\n",
        "        return embedding_matrix, vocab_size\n",
        "\n"
      ],
      "execution_count": 0,
      "outputs": []
    },
    {
      "metadata": {
        "id": "gIvp8L0J3kJJ",
        "colab_type": "code",
        "colab": {}
      },
      "cell_type": "code",
      "source": [
        "from zipfile import ZipFile\n",
        "with ZipFile('crawl-300d-2M.vec.zip', 'r') as zip:\n",
        "  zip.extract('crawl-300d-2M.vec')\n"
      ],
      "execution_count": 0,
      "outputs": []
    },
    {
      "metadata": {
        "id": "xNQs5Ho0nnvx",
        "colab_type": "code",
        "colab": {
          "base_uri": "https://localhost:8080/",
          "height": 51
        },
        "outputId": "f967ea4b-ef10-4c84-bd95-fdc073886616"
      },
      "cell_type": "code",
      "source": [
        "\n",
        "embed_loader = EmbedLoader()\n",
        "embedding_index = embed_loader.get_embedding2('crawl-300d-2M.vec')\n",
        "embedding_matrix, vocab_size = embed_loader.get_embedding_matrix(embedding_index, tok.word_index,300, max_words)"
      ],
      "execution_count": 31,
      "outputs": [
        {
          "output_type": "stream",
          "text": [
            "size word index:  150018\n",
            "embedding_matrix shape:  (100001, 300)\n"
          ],
          "name": "stdout"
        }
      ]
    },
    {
      "metadata": {
        "_uuid": "ad8706caa7a447fb49b44919fd109129e4082a93",
        "id": "-GZk7ZQnnnv3",
        "colab_type": "text"
      },
      "cell_type": "markdown",
      "source": [
        "### RNN\n",
        "Define the RNN structure."
      ]
    },
    {
      "metadata": {
        "_uuid": "78fff25b8be1de575bff071a2027f3dd2b11b911",
        "id": "4ANLzx67nnv5",
        "colab_type": "code",
        "colab": {}
      },
      "cell_type": "code",
      "source": [
        "def RNN():\n",
        "    inputs = Input(name='inputs',shape=[max_len])\n",
        "    embed_size = 300\n",
        "    emb_layer = Embedding(vocab_size, embed_size, weights=[embedding_matrix], trainable=False, name='embedding_1')(inputs)\n",
        "    layer = emb_layer\n",
        "    layer = LSTM(64)(layer)\n",
        "    layer = Dense(256,name='FC1')(layer)\n",
        "    layer = Activation('relu')(layer)\n",
        "    layer = Dropout(0.5)(layer)\n",
        "    layer = Dense(1,name='out_layer')(layer)\n",
        "    layer = Activation('sigmoid')(layer)\n",
        "    model = Model(inputs=inputs,outputs=layer)\n",
        "    return model"
      ],
      "execution_count": 0,
      "outputs": []
    },
    {
      "metadata": {
        "id": "dw8Blah3nnv_",
        "colab_type": "code",
        "colab": {}
      },
      "cell_type": "code",
      "source": [
        "from sklearn.metrics import f1_score"
      ],
      "execution_count": 0,
      "outputs": []
    },
    {
      "metadata": {
        "_uuid": "9d7c489e32bff6d12b8c08c07a91e9ba5d302e0e",
        "id": "cpWni9_SnnwF",
        "colab_type": "text"
      },
      "cell_type": "markdown",
      "source": [
        "Call the function and compile the model."
      ]
    },
    {
      "metadata": {
        "_uuid": "a0ede32d4127e8b4990fd74fe97fadef9e565d17",
        "id": "hICeDH_TnnwI",
        "colab_type": "code",
        "colab": {
          "base_uri": "https://localhost:8080/",
          "height": 408
        },
        "outputId": "097419d1-2f6c-41a9-b334-92263bacd950"
      },
      "cell_type": "code",
      "source": [
        "model = RNN()\n",
        "model.summary()\n",
        "model.compile(loss='binary_crossentropy',optimizer='adam', metrics=['accuracy'])"
      ],
      "execution_count": 44,
      "outputs": [
        {
          "output_type": "stream",
          "text": [
            "_________________________________________________________________\n",
            "Layer (type)                 Output Shape              Param #   \n",
            "=================================================================\n",
            "inputs (InputLayer)          (None, 500)               0         \n",
            "_________________________________________________________________\n",
            "embedding_1 (Embedding)      (None, 500, 300)          30000300  \n",
            "_________________________________________________________________\n",
            "lstm_2 (LSTM)                (None, 64)                93440     \n",
            "_________________________________________________________________\n",
            "FC1 (Dense)                  (None, 256)               16640     \n",
            "_________________________________________________________________\n",
            "activation_3 (Activation)    (None, 256)               0         \n",
            "_________________________________________________________________\n",
            "dropout_2 (Dropout)          (None, 256)               0         \n",
            "_________________________________________________________________\n",
            "out_layer (Dense)            (None, 1)                 257       \n",
            "_________________________________________________________________\n",
            "activation_4 (Activation)    (None, 1)                 0         \n",
            "=================================================================\n",
            "Total params: 30,110,637\n",
            "Trainable params: 110,337\n",
            "Non-trainable params: 30,000,300\n",
            "_________________________________________________________________\n"
          ],
          "name": "stdout"
        }
      ]
    },
    {
      "metadata": {
        "_uuid": "bc2e0a3ec50d14c790b82d66f9255456ec6a69da",
        "id": "l9PW-SYDnnwR",
        "colab_type": "text"
      },
      "cell_type": "markdown",
      "source": [
        "Fit on the training data."
      ]
    },
    {
      "metadata": {
        "id": "Wix4zXANDGdH",
        "colab_type": "code",
        "colab": {}
      },
      "cell_type": "code",
      "source": [
        "from keras.callbacks import ModelCheckpoint"
      ],
      "execution_count": 0,
      "outputs": []
    },
    {
      "metadata": {
        "id": "dR2v5sy-gEH4",
        "colab_type": "code",
        "colab": {}
      },
      "cell_type": "code",
      "source": [
        "early_stopping = EarlyStopping(monitor='val_loss',\n",
        "                          min_delta=0,\n",
        "                          patience=2,\n",
        "                          verbose=2, mode='auto')\n",
        "checkpointer = ModelCheckpoint(filepath='model_check.hdf5', verbose=1, monitor='val_loss', save_best_only=True)"
      ],
      "execution_count": 0,
      "outputs": []
    },
    {
      "metadata": {
        "_uuid": "98f6d6318352420ea49c532cda158f715f940f4b",
        "id": "DBijyx2YnnwT",
        "colab_type": "code",
        "colab": {
          "base_uri": "https://localhost:8080/",
          "height": 612
        },
        "outputId": "a988ded0-123e-425a-8f8a-1559eb9cb916"
      },
      "cell_type": "code",
      "source": [
        "model.fit(sequences_matrix,Y_train,batch_size=128,epochs=10,\n",
        "          validation_split=0.2,callbacks=[early_stopping, checkpointer ])"
      ],
      "execution_count": 47,
      "outputs": [
        {
          "output_type": "stream",
          "text": [
            "Train on 24472 samples, validate on 6119 samples\n",
            "Epoch 1/10\n",
            "24472/24472 [==============================] - 309s 13ms/step - loss: 0.2561 - acc: 0.9096 - val_loss: 0.1916 - val_acc: 0.9294\n",
            "\n",
            "Epoch 00001: val_loss improved from inf to 0.19160, saving model to model_check.hdf5\n",
            "Epoch 2/10\n",
            "24472/24472 [==============================] - 307s 13ms/step - loss: 0.1763 - acc: 0.9333 - val_loss: 0.1842 - val_acc: 0.9240\n",
            "\n",
            "Epoch 00002: val_loss improved from 0.19160 to 0.18420, saving model to model_check.hdf5\n",
            "Epoch 3/10\n",
            "24472/24472 [==============================] - 308s 13ms/step - loss: 0.1487 - acc: 0.9436 - val_loss: 0.1650 - val_acc: 0.9415\n",
            "\n",
            "Epoch 00003: val_loss improved from 0.18420 to 0.16502, saving model to model_check.hdf5\n",
            "Epoch 4/10\n",
            "24472/24472 [==============================] - 307s 13ms/step - loss: 0.1311 - acc: 0.9515 - val_loss: 0.1647 - val_acc: 0.9448\n",
            "\n",
            "Epoch 00004: val_loss improved from 0.16502 to 0.16465, saving model to model_check.hdf5\n",
            "Epoch 5/10\n",
            "24472/24472 [==============================] - 307s 13ms/step - loss: 0.1551 - acc: 0.9402 - val_loss: 0.1830 - val_acc: 0.9279\n",
            "\n",
            "Epoch 00005: val_loss did not improve from 0.16465\n",
            "Epoch 6/10\n",
            "24472/24472 [==============================] - 307s 13ms/step - loss: 0.1348 - acc: 0.9506 - val_loss: 0.1559 - val_acc: 0.9456\n",
            "\n",
            "Epoch 00006: val_loss improved from 0.16465 to 0.15590, saving model to model_check.hdf5\n",
            "Epoch 7/10\n",
            "24472/24472 [==============================] - 307s 13ms/step - loss: 0.1184 - acc: 0.9570 - val_loss: 0.1848 - val_acc: 0.9439\n",
            "\n",
            "Epoch 00007: val_loss did not improve from 0.15590\n",
            "Epoch 8/10\n",
            "24472/24472 [==============================] - 307s 13ms/step - loss: 0.1203 - acc: 0.9546 - val_loss: 0.1609 - val_acc: 0.9428\n",
            "\n",
            "Epoch 00008: val_loss did not improve from 0.15590\n",
            "Epoch 00008: early stopping\n"
          ],
          "name": "stdout"
        },
        {
          "output_type": "execute_result",
          "data": {
            "text/plain": [
              "<keras.callbacks.History at 0x7fb49cc842b0>"
            ]
          },
          "metadata": {
            "tags": []
          },
          "execution_count": 47
        }
      ]
    },
    {
      "metadata": {
        "id": "2XjtCg53GDPb",
        "colab_type": "code",
        "colab": {}
      },
      "cell_type": "code",
      "source": [
        "# load best score\n",
        "model.load_weights('model_check.hdf5')"
      ],
      "execution_count": 0,
      "outputs": []
    },
    {
      "metadata": {
        "_uuid": "448ab38c2f804e47df48eb45385393aaec168032",
        "id": "VXfEEfPZnnwc",
        "colab_type": "text"
      },
      "cell_type": "markdown",
      "source": [
        "The model performs well on the validation set and this configuration is chosen as the final model."
      ]
    },
    {
      "metadata": {
        "_uuid": "ccca7839445a7d663ee7bc425a16e247df3e0e5b",
        "id": "0e79nmGWnnwf",
        "colab_type": "text"
      },
      "cell_type": "markdown",
      "source": [
        "Process the test set data."
      ]
    },
    {
      "metadata": {
        "_uuid": "80036135a11387d952becaf2fecf653a65c02328",
        "id": "LmwjVX1vnnwk",
        "colab_type": "code",
        "colab": {}
      },
      "cell_type": "code",
      "source": [
        "test_sequences = tok.texts_to_sequences(X_test)\n",
        "test_sequences_matrix = sequence.pad_sequences(test_sequences,maxlen=max_len)"
      ],
      "execution_count": 0,
      "outputs": []
    },
    {
      "metadata": {
        "_uuid": "0b60d7d2bcc0aabf77c8c8766c59f8d73cd34547",
        "id": "mKGilUg7nnwv",
        "colab_type": "text"
      },
      "cell_type": "markdown",
      "source": [
        "Evaluate the model on the test set."
      ]
    },
    {
      "metadata": {
        "_uuid": "0db183049b59d96388812a98efedfc865b7cc141",
        "id": "2eBCkD9Vnnw4",
        "colab_type": "code",
        "colab": {
          "base_uri": "https://localhost:8080/",
          "height": 34
        },
        "outputId": "7f1c826a-8490-4277-afc1-522b84bac733"
      },
      "cell_type": "code",
      "source": [
        "accr = model.evaluate(test_sequences_matrix,Y_test)"
      ],
      "execution_count": 50,
      "outputs": [
        {
          "output_type": "stream",
          "text": [
            "5399/5399 [==============================] - 34s 6ms/step\n"
          ],
          "name": "stdout"
        }
      ]
    },
    {
      "metadata": {
        "id": "tS2bFMdOnnxC",
        "colab_type": "code",
        "colab": {
          "base_uri": "https://localhost:8080/",
          "height": 34
        },
        "outputId": "d6a7f61f-a8f7-4448-bb4c-2bad076c9bf2"
      },
      "cell_type": "code",
      "source": [
        "accr"
      ],
      "execution_count": 51,
      "outputs": [
        {
          "output_type": "execute_result",
          "data": {
            "text/plain": [
              "[0.1616873948245407, 0.9398036673899646]"
            ]
          },
          "metadata": {
            "tags": []
          },
          "execution_count": 51
        }
      ]
    },
    {
      "metadata": {
        "id": "qJmKhXfEnnxT",
        "colab_type": "code",
        "colab": {}
      },
      "cell_type": "code",
      "source": [
        "y_pred = model.predict(test_sequences_matrix)"
      ],
      "execution_count": 0,
      "outputs": []
    },
    {
      "metadata": {
        "id": "GXvpAkQunnxb",
        "colab_type": "code",
        "colab": {}
      },
      "cell_type": "code",
      "source": [
        "for i in range(len(y_pred)):\n",
        "    if y_pred[i] < 0.4:\n",
        "        y_pred[i] = 0\n",
        "    else:\n",
        "        y_pred[i] = 1"
      ],
      "execution_count": 0,
      "outputs": []
    },
    {
      "metadata": {
        "id": "1MEroJPhnnxm",
        "colab_type": "code",
        "colab": {
          "base_uri": "https://localhost:8080/",
          "height": 34
        },
        "outputId": "a9dbcd56-5f32-4bed-cca4-e9152591aade"
      },
      "cell_type": "code",
      "source": [
        "from sklearn.metrics import f1_score, fbeta_score\n",
        "f1_score(Y_test, y_pred, average='macro')"
      ],
      "execution_count": 54,
      "outputs": [
        {
          "output_type": "execute_result",
          "data": {
            "text/plain": [
              "0.8425999471935577"
            ]
          },
          "metadata": {
            "tags": []
          },
          "execution_count": 54
        }
      ]
    },
    {
      "metadata": {
        "id": "Tk4jXYTAnnxo",
        "colab_type": "code",
        "colab": {}
      },
      "cell_type": "code",
      "source": [
        "import nltk\n",
        "import sklearn as sk\n",
        "import pandas as pd\n",
        "from bs4 import BeautifulSoup"
      ],
      "execution_count": 0,
      "outputs": []
    },
    {
      "metadata": {
        "id": "7trzm7wynnxu",
        "colab_type": "code",
        "colab": {}
      },
      "cell_type": "code",
      "source": [
        "from sklearn.metrics import f1_score\n",
        "from sklearn.metrics import precision_score\n",
        "from sklearn.metrics import recall_score\n",
        "nltk.download('stopwords')"
      ],
      "execution_count": 0,
      "outputs": []
    },
    {
      "metadata": {
        "id": "q39iug-snnxx",
        "colab_type": "code",
        "colab": {}
      },
      "cell_type": "code",
      "source": [
        "filename = get_file('task1.train.txt')\n",
        "df2 = pd.DataFrame(columns=[\"text\",\"article_id\",\"propaganda\"])\n",
        "lines = load_text_lines(filename)\n",
        "lines = lines.split(\"\\n\")\n",
        "x = []\n",
        "for i in lines:\n",
        "    i = i.split(\"\\t\")\n",
        "    x.append(i)\n",
        "df2 = pd.DataFrame(x, columns=[\"text\",\"article_id\",\"propaganda\"])\n",
        "df2.head()\n"
      ],
      "execution_count": 0,
      "outputs": []
    },
    {
      "metadata": {
        "id": "rBVDSAMSnnx0",
        "colab_type": "code",
        "colab": {}
      },
      "cell_type": "code",
      "source": [
        "df2.propaganda.value_counts()"
      ],
      "execution_count": 0,
      "outputs": []
    },
    {
      "metadata": {
        "id": "fXUHis96nnx9",
        "colab_type": "code",
        "colab": {}
      },
      "cell_type": "code",
      "source": [
        "df2['propaganda'] = df2['propaganda'].map({'propaganda': 1, 'non-propaganda': 0})"
      ],
      "execution_count": 0,
      "outputs": []
    },
    {
      "metadata": {
        "id": "rWXOOmoFnnyC",
        "colab_type": "code",
        "colab": {}
      },
      "cell_type": "code",
      "source": [
        "counts = df2.propaganda.value_counts()\n",
        "counts"
      ],
      "execution_count": 0,
      "outputs": []
    },
    {
      "metadata": {
        "id": "uT6NHL5SnnyG",
        "colab_type": "code",
        "colab": {}
      },
      "cell_type": "code",
      "source": [
        "df2 = df2.dropna()"
      ],
      "execution_count": 0,
      "outputs": []
    },
    {
      "metadata": {
        "id": "pDkrjyM3nnyJ",
        "colab_type": "code",
        "colab": {}
      },
      "cell_type": "code",
      "source": [
        "# This is a highly skewed dataset. There are only 4021 \n",
        "print(\"Number of Propaganda items\", counts[1])\n",
        "print(\"Number of Not Propaganda items\", counts[0])\n",
        "print(\"Total number of records\", len(df2))\n",
        "percentage = (counts[1]*100)/len(df2)\n",
        "\n",
        "print(\"percentage of propaganda items {0:.2f}%\".format(percentage))"
      ],
      "execution_count": 0,
      "outputs": []
    },
    {
      "metadata": {
        "id": "EdjPc2dmnnyM",
        "colab_type": "code",
        "colab": {}
      },
      "cell_type": "code",
      "source": [
        "values = df2['propaganda'].value_counts().keys().tolist()\n",
        "counts = df2['propaganda'].value_counts().tolist()"
      ],
      "execution_count": 0,
      "outputs": []
    },
    {
      "metadata": {
        "id": "7aEwMQSBnnyQ",
        "colab_type": "code",
        "colab": {}
      },
      "cell_type": "code",
      "source": [
        "import re\n",
        "\n",
        "def decontracted(phrase):\n",
        "    # specific\n",
        "    phrase = re.sub(r\"won't\", \"will not\", phrase)\n",
        "    phrase = re.sub(r\"can\\'t\", \"can not\", phrase)\n",
        "\n",
        "    # general\n",
        "    phrase = re.sub(r\"n\\'t\", \" not\", phrase)\n",
        "    phrase = re.sub(r\"\\'re\", \" are\", phrase)\n",
        "    phrase = re.sub(r\"\\'s\", \" is\", phrase)\n",
        "    phrase = re.sub(r\"\\'d\", \" would\", phrase)\n",
        "    phrase = re.sub(r\"\\'ll\", \" will\", phrase)\n",
        "    phrase = re.sub(r\"\\'t\", \" not\", phrase)\n",
        "    phrase = re.sub(r\"\\'ve\", \" have\", phrase)\n",
        "    phrase = re.sub(r\"\\'m\", \" am\", phrase)\n",
        "    return phrase"
      ],
      "execution_count": 0,
      "outputs": []
    },
    {
      "metadata": {
        "id": "tt4M1ptInnyW",
        "colab_type": "code",
        "colab": {}
      },
      "cell_type": "code",
      "source": [
        "#NLTK STOPWORDS\n",
        "from nltk.corpus import stopwords\n",
        "stopWords = set(stopwords.words('english'))\n",
        "\n",
        "\n",
        "# MY STOPWORDS\n",
        "stopwords= set(['br', 'the', 'i', 'me', 'my', 'myself', 'we', 'our', 'ours', 'ourselves', 'you', \"you're\", \"you've\",\\\n",
        "            \"you'll\", \"you'd\", 'your', 'yours', 'yourself', 'yourselves', 'he', 'him', 'his', 'himself', \\\n",
        "            'she', \"she's\", 'her', 'hers', 'herself', 'it', \"it's\", 'its', 'itself', 'they', 'them', 'their',\\\n",
        "            'theirs', 'themselves', 'what', 'which', 'who', 'whom', 'this', 'that', \"that'll\", 'these', 'those', \\\n",
        "            'am', 'is', 'are', 'was', 'were', 'be', 'been', 'being', 'have', 'has', 'had', 'having', 'do', 'does', \\\n",
        "            'did', 'doing', 'a', 'an', 'the', 'and', 'but', 'if', 'or', 'because', 'as', 'until', 'while', 'of', \\\n",
        "            'at', 'by', 'for', 'with', 'about', 'against', 'between', 'into', 'through', 'during', 'before', 'after',\\\n",
        "            'above', 'below', 'to', 'from', 'up', 'down', 'in', 'out', 'on', 'off', 'over', 'under', 'again', 'further',\\\n",
        "            'then', 'once', 'here', 'there', 'when', 'where', 'why', 'how', 'all', 'any', 'both', 'each', 'few', 'more',\\\n",
        "            'most', 'other', 'some', 'such', 'only', 'own', 'same', 'so', 'than', 'too', 'very', \\\n",
        "            's', 't', 'can', 'will', 'just', 'don', \"don't\", 'should', \"should've\", 'now', 'd', 'll', 'm', 'o', 're', \\\n",
        "            've', 'y', 'ain', 'aren', \"aren't\", 'couldn', \"couldn't\", 'didn', \"didn't\", 'doesn', \"doesn't\", 'hadn',\\\n",
        "            \"hadn't\", 'hasn', \"hasn't\", 'haven', \"haven't\", 'isn', \"isn't\", 'ma', 'mightn', \"mightn't\", 'mustn',\\\n",
        "            \"mustn't\", 'needn', \"needn't\", 'shan', \"shan't\", 'shouldn', \"shouldn't\", 'wasn', \"wasn't\", 'weren', \"weren't\", \\\n",
        "            'won', \"won't\", 'wouldn', \"wouldn't\", \"no\", \"nor\",\"not\"])"
      ],
      "execution_count": 0,
      "outputs": []
    },
    {
      "metadata": {
        "id": "2UPFD6jXnnyd",
        "colab_type": "code",
        "colab": {}
      },
      "cell_type": "code",
      "source": [
        "# Combining all the above stundents \n",
        "from tqdm import tqdm\n",
        "preprocessed_text = []\n",
        "# tqdm is for printing the status bar\n",
        "for sentance in tqdm(df2['text'].values):\n",
        "    sentance = re.sub(r\"http\\S+\", \"\", sentance)\n",
        "    sentance = BeautifulSoup(sentance, 'lxml').get_text()\n",
        "    sentance = decontracted(sentance)\n",
        "    sentance = re.sub(\"\\S*\\d\\S*\", \"\", sentance).strip()\n",
        "    sentance = re.sub('[^A-Za-z]+', ' ', sentance)\n",
        "    # https://gist.github.com/sebleier/554280\n",
        "    sentance = ' '.join(e.lower() for e in sentance.split() if e.lower() not in stopwords)\n",
        "    preprocessed_text.append(sentance.strip())"
      ],
      "execution_count": 0,
      "outputs": []
    },
    {
      "metadata": {
        "id": "WE1WtHmjnnyg",
        "colab_type": "code",
        "colab": {}
      },
      "cell_type": "code",
      "source": [
        "df2[\"Cleaned_Text\"] = preprocessed_text"
      ],
      "execution_count": 0,
      "outputs": []
    },
    {
      "metadata": {
        "id": "Ch7rtLlInnyl",
        "colab_type": "code",
        "colab": {}
      },
      "cell_type": "code",
      "source": [
        "final = df2\n",
        "final.head()\n"
      ],
      "execution_count": 0,
      "outputs": []
    },
    {
      "metadata": {
        "id": "8HEOPLgtnnyo",
        "colab_type": "code",
        "colab": {}
      },
      "cell_type": "code",
      "source": [
        "restart_here = final.copy()"
      ],
      "execution_count": 0,
      "outputs": []
    },
    {
      "metadata": {
        "id": "55ONz_dxnnyu",
        "colab_type": "code",
        "colab": {}
      },
      "cell_type": "code",
      "source": [
        "final = restart_here\n",
        "\n",
        "# Splitting the dataset into Train, Test.\n",
        "# Let's go for an 80 - 20 split.\n",
        "labels = final[\"propaganda\"]\n",
        "finals = final.drop(columns=[\"propaganda\"], axis=1, inplace=False)\n",
        "\n",
        "from sklearn.model_selection import train_test_split\n",
        "X_train, X_test, y_train, y_test = train_test_split(finals, labels, test_size=0.15, random_state=42)\n",
        "print(len(X_train))\n",
        "print(len(X_test))"
      ],
      "execution_count": 0,
      "outputs": []
    },
    {
      "metadata": {
        "id": "A4D0MOOLnnyz",
        "colab_type": "code",
        "colab": {}
      },
      "cell_type": "code",
      "source": [
        "from sklearn.feature_extraction.text import TfidfTransformer\n",
        "from sklearn.feature_extraction.text import TfidfVectorizer\n",
        "\n",
        "from sklearn.feature_extraction.text import CountVectorizer\n",
        "from sklearn.metrics import confusion_matrix\n",
        "from sklearn import metrics\n",
        "from sklearn.metrics import roc_curve, auc\n",
        "from nltk.stem.porter import PorterStemmer"
      ],
      "execution_count": 0,
      "outputs": []
    },
    {
      "metadata": {
        "id": "1wv50Keynny3",
        "colab_type": "code",
        "colab": {}
      },
      "cell_type": "code",
      "source": [
        "#BoW\n",
        "count_vect = CountVectorizer() #in scikit-learn\n",
        "count_vect.fit(preprocessed_text)\n",
        "print(\"some feature names \", count_vect.get_feature_names()[:10])\n",
        "print('='*50)\n",
        "\n",
        "final_counts = count_vect.transform(preprocessed_text)\n",
        "print(\"the type of count vectorizer \",type(final_counts))\n",
        "print(\"the shape of out text BOW vectorizer \",final_counts.get_shape())\n",
        "print(\"the number of unique words \", final_counts.get_shape()[1])"
      ],
      "execution_count": 0,
      "outputs": []
    },
    {
      "metadata": {
        "id": "oVi74ZPLnny6",
        "colab_type": "code",
        "colab": {}
      },
      "cell_type": "code",
      "source": [
        "from sklearn.neighbors import KNeighborsClassifier"
      ],
      "execution_count": 0,
      "outputs": []
    },
    {
      "metadata": {
        "id": "ntyZcwbInny8",
        "colab_type": "code",
        "colab": {}
      },
      "cell_type": "code",
      "source": [
        "# Please write all the code with proper documentation\n",
        "def bag_of_words(train_data, test_data, validation_data = None):\n",
        "    count_vect = CountVectorizer() #in scikit-learn\n",
        "    count_vect.fit(train_data)\n",
        "    print(\"some feature names \", count_vect.get_feature_names()[:10])\n",
        "    print('='*50)\n",
        "    train_data_vectorized = count_vect.transform(train_data)\n",
        "    test_data_vectorized = count_vect.transform(test_data)\n",
        "    if validation_data:\n",
        "        validation_data_vectorized = count_vect.tranform(validation_data)\n",
        "    else:\n",
        "        validation_data_vectorized = None\n",
        "    print(\"the type of count vectorizer \",type(train_data_vectorized))\n",
        "    print(\"the shape of out text BOW vectorizer \",train_data_vectorized.get_shape())\n",
        "    print(\"the number of unique words \", train_data_vectorized.get_shape()[1])\n",
        "    return train_data_vectorized, test_data_vectorized"
      ],
      "execution_count": 0,
      "outputs": []
    },
    {
      "metadata": {
        "id": "ypFwRD9fnny-",
        "colab_type": "code",
        "colab": {}
      },
      "cell_type": "code",
      "source": [
        "train_data_vectorized , test_data_vectorized = bag_of_words(X_train[\"Cleaned_Text\"], X_test[\"Cleaned_Text\"])"
      ],
      "execution_count": 0,
      "outputs": []
    },
    {
      "metadata": {
        "id": "v6-aBUzGnnzB",
        "colab_type": "code",
        "colab": {}
      },
      "cell_type": "code",
      "source": [
        "train_data_vectorized"
      ],
      "execution_count": 0,
      "outputs": []
    },
    {
      "metadata": {
        "id": "lvSO_Q5PnnzD",
        "colab_type": "code",
        "colab": {}
      },
      "cell_type": "code",
      "source": [
        "#from sklearn.model_selection import GridSearchCV\n",
        "\n",
        "#knn = KNeighborsClassifier()\n",
        "#n_list = range(1,10,2)\n",
        "#parameters = {\"n_neighbors\":n_list}\n",
        "#clf = GridSearchCV(knn, parameters, cv=3, verbose=2, n_jobs=2)\n",
        "#clf.fit(train_data_vectorized,y_train)"
      ],
      "execution_count": 0,
      "outputs": []
    },
    {
      "metadata": {
        "id": "yPMzAxtinnzH",
        "colab_type": "code",
        "colab": {}
      },
      "cell_type": "code",
      "source": [
        "clf.best_params_"
      ],
      "execution_count": 0,
      "outputs": []
    },
    {
      "metadata": {
        "id": "A6DdpKunnnzM",
        "colab_type": "code",
        "colab": {}
      },
      "cell_type": "code",
      "source": [
        "clf2 = KNeighborsClassifier(n_neighbors=7)\n",
        "clf2.fit(train_data_vectorized,y_train)\n",
        "clf2.score(test_data_vectorized,y_test)"
      ],
      "execution_count": 0,
      "outputs": []
    },
    {
      "metadata": {
        "id": "blDZ4XxjnnzO",
        "colab_type": "code",
        "colab": {}
      },
      "cell_type": "code",
      "source": [
        "y_pred_2 = clf2.predict(test_data_vectorized)"
      ],
      "execution_count": 0,
      "outputs": []
    },
    {
      "metadata": {
        "id": "OrgLdUJJnnzR",
        "colab_type": "code",
        "colab": {}
      },
      "cell_type": "code",
      "source": [
        "y_true = y_test"
      ],
      "execution_count": 0,
      "outputs": []
    },
    {
      "metadata": {
        "id": "tFyH3zwfnnzT",
        "colab_type": "code",
        "colab": {}
      },
      "cell_type": "code",
      "source": [
        "from sklearn.metrics import f1_score\n",
        "from sklearn.metrics import precision_score\n",
        "from sklearn.metrics import recall_score\n",
        "\n",
        "print(f1_score(y_true, y_pred_2))\n",
        "print(recall_score(y_true, y_pred_2))\n",
        "print(precision_score(y_true, y_pred_2))"
      ],
      "execution_count": 0,
      "outputs": []
    },
    {
      "metadata": {
        "id": "0Fa4Eie4nnza",
        "colab_type": "code",
        "colab": {}
      },
      "cell_type": "code",
      "source": [
        "from sklearn.naive_bayes import MultinomialNB\n",
        "\n",
        "mnb = MultinomialNB()\n",
        "mnb.fit(train_data_vectorized,y_train)\n",
        "mnb_pred = mnb.predict(test_data_vectorized)"
      ],
      "execution_count": 0,
      "outputs": []
    },
    {
      "metadata": {
        "id": "Lzo7kc86nnze",
        "colab_type": "code",
        "colab": {}
      },
      "cell_type": "code",
      "source": [
        "from sklearn.metrics import f1_score\n",
        "from sklearn.metrics import precision_score\n",
        "from sklearn.metrics import recall_score\n",
        "\n",
        "print(f1_score(y_true, mnb_pred))\n",
        "print(recall_score(y_true, mnb_pred))\n",
        "print(precision_score(y_true, mnb_pred))"
      ],
      "execution_count": 0,
      "outputs": []
    },
    {
      "metadata": {
        "id": "OWiEh2sgnnzg",
        "colab_type": "code",
        "colab": {}
      },
      "cell_type": "code",
      "source": [
        "mnb_pred , y_pred_2 , y_pred"
      ],
      "execution_count": 0,
      "outputs": []
    },
    {
      "metadata": {
        "id": "K320DIA9nnzi",
        "colab_type": "code",
        "colab": {}
      },
      "cell_type": "code",
      "source": [
        "y_pred = model.predict(sequences_matrix_test)"
      ],
      "execution_count": 0,
      "outputs": []
    },
    {
      "metadata": {
        "id": "4JH5y2f7nnzm",
        "colab_type": "code",
        "colab": {}
      },
      "cell_type": "code",
      "source": [
        "#y_avg = [(x + y + z) / 3 for x in y_pred for y in y_pred_2 for z in mnb_pred]\n",
        "for i in range(len(y_pred)):\n",
        "    if y_pred[i] < 0.4:\n",
        "        y_pred[i] = 0\n",
        "    else:\n",
        "        y_pred[i] = 1\n",
        "        \n",
        "y_pred"
      ],
      "execution_count": 0,
      "outputs": []
    },
    {
      "metadata": {
        "id": "Ye6Eybmannzo",
        "colab_type": "code",
        "colab": {}
      },
      "cell_type": "code",
      "source": [
        "print(len(y_pred))\n",
        "print(len(mnb_pred))\n",
        "print(len(y_pred_2))\n",
        "#for i in range(len(y_pred))\n",
        "\n",
        "\n",
        "#y_avg = np.zeros(len(y_pred))\n",
        "#for i in range(len(y_pred)):\n",
        "#    y_avg[i] = (y_pred[i] + y_pred_2[i] + mnb_pred[i]) / 3\n",
        "#    #y_avg.append(avg)"
      ],
      "execution_count": 0,
      "outputs": []
    },
    {
      "metadata": {
        "id": "lwKpitxXnnzr",
        "colab_type": "code",
        "colab": {}
      },
      "cell_type": "code",
      "source": [
        "#y_avg"
      ],
      "execution_count": 0,
      "outputs": []
    },
    {
      "metadata": {
        "id": "C0Lh15e1nnzx",
        "colab_type": "code",
        "colab": {}
      },
      "cell_type": "code",
      "source": [
        ""
      ],
      "execution_count": 0,
      "outputs": []
    },
    {
      "metadata": {
        "id": "YGX5mqrPnnzz",
        "colab_type": "code",
        "colab": {}
      },
      "cell_type": "code",
      "source": [
        "for i in range(len(y_avg)):\n",
        "    if y_avg[i] < 0.4:\n",
        "        y_avg[i] = 0\n",
        "    else:\n",
        "        y_avg[i] = 1"
      ],
      "execution_count": 0,
      "outputs": []
    },
    {
      "metadata": {
        "id": "7JI_2-FJnnz2",
        "colab_type": "code",
        "colab": {}
      },
      "cell_type": "code",
      "source": [
        "y_avg"
      ],
      "execution_count": 0,
      "outputs": []
    },
    {
      "metadata": {
        "id": "-5MqKV4gnnz3",
        "colab_type": "code",
        "colab": {}
      },
      "cell_type": "code",
      "source": [
        "plt.plot(y_avg)"
      ],
      "execution_count": 0,
      "outputs": []
    },
    {
      "metadata": {
        "id": "ZIcFp-c7nnz8",
        "colab_type": "code",
        "colab": {}
      },
      "cell_type": "code",
      "source": [
        ""
      ],
      "execution_count": 0,
      "outputs": []
    }
  ]
}