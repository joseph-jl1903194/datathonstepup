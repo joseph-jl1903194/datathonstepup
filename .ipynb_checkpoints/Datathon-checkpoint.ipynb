{
 "cells": [
  {
   "cell_type": "code",
   "execution_count": 1,
   "metadata": {
    "collapsed": true
   },
   "outputs": [],
   "source": [
    "import nltk\n",
    "import sklearn as sk\n",
    "import pandas as pd\n",
    "from bs4 import BeautifulSoup"
   ]
  },
  {
   "cell_type": "code",
   "execution_count": 14,
   "metadata": {
    "collapsed": true
   },
   "outputs": [],
   "source": [
    "from sklearn.metrics import f1_score\n",
    "from sklearn.metrics import precision_score\n",
    "from sklearn.metrics import recall_score"
   ]
  },
  {
   "cell_type": "code",
   "execution_count": 15,
   "metadata": {
    "collapsed": true
   },
   "outputs": [],
   "source": [
    "filename = \"task1.train.txt\"\n",
    "# filename = \"task1.train.txt\""
   ]
  },
  {
   "cell_type": "code",
   "execution_count": 16,
   "metadata": {
    "collapsed": true
   },
   "outputs": [],
   "source": [
    "df = pd.DataFrame(columns=[\"text\",\"article_id\",\"propaganda\"])"
   ]
  },
  {
   "cell_type": "code",
   "execution_count": 17,
   "metadata": {},
   "outputs": [],
   "source": [
    "x = []\n",
    "with open(filename,\"r\") as f:\n",
    "#     x = f.readline()\n",
    "    lines = f.readlines()\n",
    "    for i in lines:\n",
    "        i = i.split(\"\\t\")\n",
    "        x.append(i)\n",
    "        \n",
    "#     x = f.readline().split()\n"
   ]
  },
  {
   "cell_type": "code",
   "execution_count": 18,
   "metadata": {
    "scrolled": true
   },
   "outputs": [
    {
     "data": {
      "text/html": [
       "<div>\n",
       "<style scoped>\n",
       "    .dataframe tbody tr th:only-of-type {\n",
       "        vertical-align: middle;\n",
       "    }\n",
       "\n",
       "    .dataframe tbody tr th {\n",
       "        vertical-align: top;\n",
       "    }\n",
       "\n",
       "    .dataframe thead th {\n",
       "        text-align: right;\n",
       "    }\n",
       "</style>\n",
       "<table border=\"1\" class=\"dataframe\">\n",
       "  <thead>\n",
       "    <tr style=\"text-align: right;\">\n",
       "      <th></th>\n",
       "      <th>text</th>\n",
       "      <th>article_id</th>\n",
       "      <th>propaganda</th>\n",
       "    </tr>\n",
       "  </thead>\n",
       "  <tbody>\n",
       "    <tr>\n",
       "      <th>0</th>\n",
       "      <td>Et tu, Rhody?  A recent editorial in the Provi...</td>\n",
       "      <td>727600136</td>\n",
       "      <td>non-propaganda\\n</td>\n",
       "    </tr>\n",
       "    <tr>\n",
       "      <th>1</th>\n",
       "      <td>A recent post in The Farmington Mirror — our t...</td>\n",
       "      <td>731714618</td>\n",
       "      <td>non-propaganda\\n</td>\n",
       "    </tr>\n",
       "    <tr>\n",
       "      <th>2</th>\n",
       "      <td>President Donald Trump, as he often does while...</td>\n",
       "      <td>731714635</td>\n",
       "      <td>non-propaganda\\n</td>\n",
       "    </tr>\n",
       "    <tr>\n",
       "      <th>3</th>\n",
       "      <td>February is Black History Month, and nothing l...</td>\n",
       "      <td>728627182</td>\n",
       "      <td>non-propaganda\\n</td>\n",
       "    </tr>\n",
       "    <tr>\n",
       "      <th>4</th>\n",
       "      <td>The snow was so heavy, whipped up by gusting w...</td>\n",
       "      <td>728627443</td>\n",
       "      <td>non-propaganda\\n</td>\n",
       "    </tr>\n",
       "    <tr>\n",
       "      <th>5</th>\n",
       "      <td>Four months after the Sandy Hook School shooti...</td>\n",
       "      <td>732126660</td>\n",
       "      <td>non-propaganda\\n</td>\n",
       "    </tr>\n",
       "    <tr>\n",
       "      <th>6</th>\n",
       "      <td>The first major newspaper article about Donald...</td>\n",
       "      <td>728144791</td>\n",
       "      <td>non-propaganda\\n</td>\n",
       "    </tr>\n",
       "    <tr>\n",
       "      <th>7</th>\n",
       "      <td>For three years, starting in 2008, New York ar...</td>\n",
       "      <td>728605281</td>\n",
       "      <td>non-propaganda\\n</td>\n",
       "    </tr>\n",
       "    <tr>\n",
       "      <th>8</th>\n",
       "      <td>President Donald Trump's tumultuous administra...</td>\n",
       "      <td>731383701</td>\n",
       "      <td>non-propaganda\\n</td>\n",
       "    </tr>\n",
       "    <tr>\n",
       "      <th>9</th>\n",
       "      <td>With Hartford on edge about the future of Aetn...</td>\n",
       "      <td>734075146</td>\n",
       "      <td>non-propaganda\\n</td>\n",
       "    </tr>\n",
       "    <tr>\n",
       "      <th>10</th>\n",
       "      <td>An employee at a Hibachi Express in Florida ha...</td>\n",
       "      <td>730014413</td>\n",
       "      <td>non-propaganda\\n</td>\n",
       "    </tr>\n",
       "    <tr>\n",
       "      <th>11</th>\n",
       "      <td>With the toll of the carnage from the country’...</td>\n",
       "      <td>731000618</td>\n",
       "      <td>non-propaganda\\n</td>\n",
       "    </tr>\n",
       "    <tr>\n",
       "      <th>12</th>\n",
       "      <td>The State Department's point-man on North Kore...</td>\n",
       "      <td>734267317</td>\n",
       "      <td>non-propaganda\\n</td>\n",
       "    </tr>\n",
       "    <tr>\n",
       "      <th>13</th>\n",
       "      <td>The Trump Organization announced Monday that i...</td>\n",
       "      <td>734268392</td>\n",
       "      <td>non-propaganda\\n</td>\n",
       "    </tr>\n",
       "    <tr>\n",
       "      <th>14</th>\n",
       "      <td>Aer Lingus’ service from Bradley International...</td>\n",
       "      <td>732544725</td>\n",
       "      <td>non-propaganda\\n</td>\n",
       "    </tr>\n",
       "    <tr>\n",
       "      <th>15</th>\n",
       "      <td>For its show “Constellations,” which ends its ...</td>\n",
       "      <td>732544983</td>\n",
       "      <td>non-propaganda\\n</td>\n",
       "    </tr>\n",
       "    <tr>\n",
       "      <th>16</th>\n",
       "      <td>The Corporation for Public Broadcasting (CPB) ...</td>\n",
       "      <td>733933352</td>\n",
       "      <td>non-propaganda\\n</td>\n",
       "    </tr>\n",
       "    <tr>\n",
       "      <th>17</th>\n",
       "      <td>All five members of New Britain’s state legisl...</td>\n",
       "      <td>729599944</td>\n",
       "      <td>non-propaganda\\n</td>\n",
       "    </tr>\n",
       "    <tr>\n",
       "      <th>18</th>\n",
       "      <td>The leader and second in command of a credit-c...</td>\n",
       "      <td>729092528</td>\n",
       "      <td>non-propaganda\\n</td>\n",
       "    </tr>\n",
       "    <tr>\n",
       "      <th>19</th>\n",
       "      <td>After eight years as the state’s relentless ch...</td>\n",
       "      <td>729092995</td>\n",
       "      <td>non-propaganda\\n</td>\n",
       "    </tr>\n",
       "    <tr>\n",
       "      <th>20</th>\n",
       "      <td>Aetna Inc. is being sued in yet another legal ...</td>\n",
       "      <td>729093525</td>\n",
       "      <td>non-propaganda\\n</td>\n",
       "    </tr>\n",
       "    <tr>\n",
       "      <th>21</th>\n",
       "      <td>Erin Stewart will be out of sight, but not out...</td>\n",
       "      <td>732605196</td>\n",
       "      <td>non-propaganda\\n</td>\n",
       "    </tr>\n",
       "    <tr>\n",
       "      <th>22</th>\n",
       "      <td>Dozens of Meriden residents and city officials...</td>\n",
       "      <td>732605617</td>\n",
       "      <td>non-propaganda\\n</td>\n",
       "    </tr>\n",
       "    <tr>\n",
       "      <th>23</th>\n",
       "      <td>Two classic American novels will no longer be ...</td>\n",
       "      <td>729829440</td>\n",
       "      <td>non-propaganda\\n</td>\n",
       "    </tr>\n",
       "    <tr>\n",
       "      <th>24</th>\n",
       "      <td>We asked our friends on Facebook and Twitter t...</td>\n",
       "      <td>728544641</td>\n",
       "      <td>non-propaganda\\n</td>\n",
       "    </tr>\n",
       "    <tr>\n",
       "      <th>25</th>\n",
       "      <td>MassMutual announced Thursday it is closing it...</td>\n",
       "      <td>729313115</td>\n",
       "      <td>non-propaganda\\n</td>\n",
       "    </tr>\n",
       "    <tr>\n",
       "      <th>26</th>\n",
       "      <td>Amid federal inaction on gun control, the Demo...</td>\n",
       "      <td>733130852</td>\n",
       "      <td>non-propaganda\\n</td>\n",
       "    </tr>\n",
       "    <tr>\n",
       "      <th>27</th>\n",
       "      <td>Linda Greenhouse, the award-winning New York T...</td>\n",
       "      <td>733131088</td>\n",
       "      <td>non-propaganda\\n</td>\n",
       "    </tr>\n",
       "    <tr>\n",
       "      <th>28</th>\n",
       "      <td>Stephen Colbert would like to change the votin...</td>\n",
       "      <td>732789288</td>\n",
       "      <td>non-propaganda\\n</td>\n",
       "    </tr>\n",
       "    <tr>\n",
       "      <th>29</th>\n",
       "      <td>In the wake of the shooting death of 15-year-o...</td>\n",
       "      <td>729194501</td>\n",
       "      <td>non-propaganda\\n</td>\n",
       "    </tr>\n",
       "    <tr>\n",
       "      <th>...</th>\n",
       "      <td>...</td>\n",
       "      <td>...</td>\n",
       "      <td>...</td>\n",
       "    </tr>\n",
       "    <tr>\n",
       "      <th>35963</th>\n",
       "      <td>“The best way to teach your kids about taxes i...</td>\n",
       "      <td>694381164</td>\n",
       "      <td>propaganda\\n</td>\n",
       "    </tr>\n",
       "    <tr>\n",
       "      <th>35964</th>\n",
       "      <td>[This article is excerpted from volume 2, chap...</td>\n",
       "      <td>694381211</td>\n",
       "      <td>propaganda\\n</td>\n",
       "    </tr>\n",
       "    <tr>\n",
       "      <th>35965</th>\n",
       "      <td>I remember the moment I got the HPV vaccine. I...</td>\n",
       "      <td>694381405</td>\n",
       "      <td>propaganda\\n</td>\n",
       "    </tr>\n",
       "    <tr>\n",
       "      <th>35966</th>\n",
       "      <td>“These are, after all, the same entities who i...</td>\n",
       "      <td>694382687</td>\n",
       "      <td>propaganda\\n</td>\n",
       "    </tr>\n",
       "    <tr>\n",
       "      <th>35967</th>\n",
       "      <td>Madagascar isn’t getting this epidemic of the ...</td>\n",
       "      <td>701521336</td>\n",
       "      <td>propaganda\\n</td>\n",
       "    </tr>\n",
       "    <tr>\n",
       "      <th>35968</th>\n",
       "      <td>WikiLeaks founder Julian Assange has accused H...</td>\n",
       "      <td>698536805</td>\n",
       "      <td>propaganda\\n</td>\n",
       "    </tr>\n",
       "    <tr>\n",
       "      <th>35969</th>\n",
       "      <td>Every ideologically driven citizen has one law...</td>\n",
       "      <td>698537030</td>\n",
       "      <td>propaganda\\n</td>\n",
       "    </tr>\n",
       "    <tr>\n",
       "      <th>35970</th>\n",
       "      <td>On 31 August 1888 Mary Ann Nichols, the first ...</td>\n",
       "      <td>783694526</td>\n",
       "      <td>propaganda\\n</td>\n",
       "    </tr>\n",
       "    <tr>\n",
       "      <th>35971</th>\n",
       "      <td>By nature all men are equal in liberty but not...</td>\n",
       "      <td>783694592</td>\n",
       "      <td>propaganda\\n</td>\n",
       "    </tr>\n",
       "    <tr>\n",
       "      <th>35972</th>\n",
       "      <td>The following is the foreword that I have writ...</td>\n",
       "      <td>783694820</td>\n",
       "      <td>propaganda\\n</td>\n",
       "    </tr>\n",
       "    <tr>\n",
       "      <th>35973</th>\n",
       "      <td>https://www.lewrockwell.com/lrc-blog/american-...</td>\n",
       "      <td>783929870</td>\n",
       "      <td>propaganda\\n</td>\n",
       "    </tr>\n",
       "    <tr>\n",
       "      <th>35974</th>\n",
       "      <td>Joe Lauria, editor-in-chief of Consortium News...</td>\n",
       "      <td>784033478</td>\n",
       "      <td>propaganda\\n</td>\n",
       "    </tr>\n",
       "    <tr>\n",
       "      <th>35975</th>\n",
       "      <td>Just because he’s dead doesn’t mean John McCai...</td>\n",
       "      <td>784266021</td>\n",
       "      <td>propaganda\\n</td>\n",
       "    </tr>\n",
       "    <tr>\n",
       "      <th>35976</th>\n",
       "      <td>A recently posted commentary by Ben Shapiro on...</td>\n",
       "      <td>784266637</td>\n",
       "      <td>propaganda\\n</td>\n",
       "    </tr>\n",
       "    <tr>\n",
       "      <th>35977</th>\n",
       "      <td>Moscow has seen attempts to meddle in the Russ...</td>\n",
       "      <td>784555004</td>\n",
       "      <td>propaganda\\n</td>\n",
       "    </tr>\n",
       "    <tr>\n",
       "      <th>35978</th>\n",
       "      <td>Seven years after the beginning of the war aga...</td>\n",
       "      <td>784555056</td>\n",
       "      <td>propaganda\\n</td>\n",
       "    </tr>\n",
       "    <tr>\n",
       "      <th>35979</th>\n",
       "      <td>In April 2005, a Republican-led Department of ...</td>\n",
       "      <td>784555422</td>\n",
       "      <td>propaganda\\n</td>\n",
       "    </tr>\n",
       "    <tr>\n",
       "      <th>35980</th>\n",
       "      <td>Many of us in the South have maintained our fa...</td>\n",
       "      <td>784556485</td>\n",
       "      <td>propaganda\\n</td>\n",
       "    </tr>\n",
       "    <tr>\n",
       "      <th>35981</th>\n",
       "      <td>In an interview with Consortium News Editor-in...</td>\n",
       "      <td>784855236</td>\n",
       "      <td>propaganda\\n</td>\n",
       "    </tr>\n",
       "    <tr>\n",
       "      <th>35982</th>\n",
       "      <td>Shop all books by Judge Napolitano  Last week,...</td>\n",
       "      <td>784855886</td>\n",
       "      <td>propaganda\\n</td>\n",
       "    </tr>\n",
       "    <tr>\n",
       "      <th>35983</th>\n",
       "      <td>https://www.lewrockwell.com/lrc-blog/why-bob-w...</td>\n",
       "      <td>785266460</td>\n",
       "      <td>propaganda\\n</td>\n",
       "    </tr>\n",
       "    <tr>\n",
       "      <th>35984</th>\n",
       "      <td>Fellow Americans,  Please know: I am black; I ...</td>\n",
       "      <td>785149287</td>\n",
       "      <td>propaganda\\n</td>\n",
       "    </tr>\n",
       "    <tr>\n",
       "      <th>35985</th>\n",
       "      <td>The past is not dead; it is people who are sle...</td>\n",
       "      <td>785429194</td>\n",
       "      <td>propaganda\\n</td>\n",
       "    </tr>\n",
       "    <tr>\n",
       "      <th>35986</th>\n",
       "      <td>The New York Times continues to outdo itself i...</td>\n",
       "      <td>785429583</td>\n",
       "      <td>propaganda\\n</td>\n",
       "    </tr>\n",
       "    <tr>\n",
       "      <th>35987</th>\n",
       "      <td>“It’s very depressing. You want to read a depr...</td>\n",
       "      <td>785430430</td>\n",
       "      <td>propaganda\\n</td>\n",
       "    </tr>\n",
       "    <tr>\n",
       "      <th>35988</th>\n",
       "      <td>From The Telegraph:  Towns in Brazil have beco...</td>\n",
       "      <td>785781276</td>\n",
       "      <td>propaganda\\n</td>\n",
       "    </tr>\n",
       "    <tr>\n",
       "      <th>35989</th>\n",
       "      <td>The second episode of Consortium News on Flash...</td>\n",
       "      <td>785781322</td>\n",
       "      <td>propaganda\\n</td>\n",
       "    </tr>\n",
       "    <tr>\n",
       "      <th>35990</th>\n",
       "      <td>It is beginning.  Actually, it’s been happenin...</td>\n",
       "      <td>785781455</td>\n",
       "      <td>propaganda\\n</td>\n",
       "    </tr>\n",
       "    <tr>\n",
       "      <th>35991</th>\n",
       "      <td>Justin’s note: As regular Dispatch readers kno...</td>\n",
       "      <td>785781711</td>\n",
       "      <td>propaganda\\n</td>\n",
       "    </tr>\n",
       "    <tr>\n",
       "      <th>35992</th>\n",
       "      <td>“No man can serve two masters” (Matthew 6:24)....</td>\n",
       "      <td>786060460</td>\n",
       "      <td>propaganda\\n</td>\n",
       "    </tr>\n",
       "  </tbody>\n",
       "</table>\n",
       "<p>35993 rows × 3 columns</p>\n",
       "</div>"
      ],
      "text/plain": [
       "                                                    text article_id  \\\n",
       "0      Et tu, Rhody?  A recent editorial in the Provi...  727600136   \n",
       "1      A recent post in The Farmington Mirror — our t...  731714618   \n",
       "2      President Donald Trump, as he often does while...  731714635   \n",
       "3      February is Black History Month, and nothing l...  728627182   \n",
       "4      The snow was so heavy, whipped up by gusting w...  728627443   \n",
       "5      Four months after the Sandy Hook School shooti...  732126660   \n",
       "6      The first major newspaper article about Donald...  728144791   \n",
       "7      For three years, starting in 2008, New York ar...  728605281   \n",
       "8      President Donald Trump's tumultuous administra...  731383701   \n",
       "9      With Hartford on edge about the future of Aetn...  734075146   \n",
       "10     An employee at a Hibachi Express in Florida ha...  730014413   \n",
       "11     With the toll of the carnage from the country’...  731000618   \n",
       "12     The State Department's point-man on North Kore...  734267317   \n",
       "13     The Trump Organization announced Monday that i...  734268392   \n",
       "14     Aer Lingus’ service from Bradley International...  732544725   \n",
       "15     For its show “Constellations,” which ends its ...  732544983   \n",
       "16     The Corporation for Public Broadcasting (CPB) ...  733933352   \n",
       "17     All five members of New Britain’s state legisl...  729599944   \n",
       "18     The leader and second in command of a credit-c...  729092528   \n",
       "19     After eight years as the state’s relentless ch...  729092995   \n",
       "20     Aetna Inc. is being sued in yet another legal ...  729093525   \n",
       "21     Erin Stewart will be out of sight, but not out...  732605196   \n",
       "22     Dozens of Meriden residents and city officials...  732605617   \n",
       "23     Two classic American novels will no longer be ...  729829440   \n",
       "24     We asked our friends on Facebook and Twitter t...  728544641   \n",
       "25     MassMutual announced Thursday it is closing it...  729313115   \n",
       "26     Amid federal inaction on gun control, the Demo...  733130852   \n",
       "27     Linda Greenhouse, the award-winning New York T...  733131088   \n",
       "28     Stephen Colbert would like to change the votin...  732789288   \n",
       "29     In the wake of the shooting death of 15-year-o...  729194501   \n",
       "...                                                  ...        ...   \n",
       "35963  “The best way to teach your kids about taxes i...  694381164   \n",
       "35964  [This article is excerpted from volume 2, chap...  694381211   \n",
       "35965  I remember the moment I got the HPV vaccine. I...  694381405   \n",
       "35966  “These are, after all, the same entities who i...  694382687   \n",
       "35967  Madagascar isn’t getting this epidemic of the ...  701521336   \n",
       "35968  WikiLeaks founder Julian Assange has accused H...  698536805   \n",
       "35969  Every ideologically driven citizen has one law...  698537030   \n",
       "35970  On 31 August 1888 Mary Ann Nichols, the first ...  783694526   \n",
       "35971  By nature all men are equal in liberty but not...  783694592   \n",
       "35972  The following is the foreword that I have writ...  783694820   \n",
       "35973  https://www.lewrockwell.com/lrc-blog/american-...  783929870   \n",
       "35974  Joe Lauria, editor-in-chief of Consortium News...  784033478   \n",
       "35975  Just because he’s dead doesn’t mean John McCai...  784266021   \n",
       "35976  A recently posted commentary by Ben Shapiro on...  784266637   \n",
       "35977  Moscow has seen attempts to meddle in the Russ...  784555004   \n",
       "35978  Seven years after the beginning of the war aga...  784555056   \n",
       "35979  In April 2005, a Republican-led Department of ...  784555422   \n",
       "35980  Many of us in the South have maintained our fa...  784556485   \n",
       "35981  In an interview with Consortium News Editor-in...  784855236   \n",
       "35982  Shop all books by Judge Napolitano  Last week,...  784855886   \n",
       "35983  https://www.lewrockwell.com/lrc-blog/why-bob-w...  785266460   \n",
       "35984  Fellow Americans,  Please know: I am black; I ...  785149287   \n",
       "35985  The past is not dead; it is people who are sle...  785429194   \n",
       "35986  The New York Times continues to outdo itself i...  785429583   \n",
       "35987  “It’s very depressing. You want to read a depr...  785430430   \n",
       "35988  From The Telegraph:  Towns in Brazil have beco...  785781276   \n",
       "35989  The second episode of Consortium News on Flash...  785781322   \n",
       "35990  It is beginning.  Actually, it’s been happenin...  785781455   \n",
       "35991  Justin’s note: As regular Dispatch readers kno...  785781711   \n",
       "35992  “No man can serve two masters” (Matthew 6:24)....  786060460   \n",
       "\n",
       "             propaganda  \n",
       "0      non-propaganda\\n  \n",
       "1      non-propaganda\\n  \n",
       "2      non-propaganda\\n  \n",
       "3      non-propaganda\\n  \n",
       "4      non-propaganda\\n  \n",
       "5      non-propaganda\\n  \n",
       "6      non-propaganda\\n  \n",
       "7      non-propaganda\\n  \n",
       "8      non-propaganda\\n  \n",
       "9      non-propaganda\\n  \n",
       "10     non-propaganda\\n  \n",
       "11     non-propaganda\\n  \n",
       "12     non-propaganda\\n  \n",
       "13     non-propaganda\\n  \n",
       "14     non-propaganda\\n  \n",
       "15     non-propaganda\\n  \n",
       "16     non-propaganda\\n  \n",
       "17     non-propaganda\\n  \n",
       "18     non-propaganda\\n  \n",
       "19     non-propaganda\\n  \n",
       "20     non-propaganda\\n  \n",
       "21     non-propaganda\\n  \n",
       "22     non-propaganda\\n  \n",
       "23     non-propaganda\\n  \n",
       "24     non-propaganda\\n  \n",
       "25     non-propaganda\\n  \n",
       "26     non-propaganda\\n  \n",
       "27     non-propaganda\\n  \n",
       "28     non-propaganda\\n  \n",
       "29     non-propaganda\\n  \n",
       "...                 ...  \n",
       "35963      propaganda\\n  \n",
       "35964      propaganda\\n  \n",
       "35965      propaganda\\n  \n",
       "35966      propaganda\\n  \n",
       "35967      propaganda\\n  \n",
       "35968      propaganda\\n  \n",
       "35969      propaganda\\n  \n",
       "35970      propaganda\\n  \n",
       "35971      propaganda\\n  \n",
       "35972      propaganda\\n  \n",
       "35973      propaganda\\n  \n",
       "35974      propaganda\\n  \n",
       "35975      propaganda\\n  \n",
       "35976      propaganda\\n  \n",
       "35977      propaganda\\n  \n",
       "35978      propaganda\\n  \n",
       "35979      propaganda\\n  \n",
       "35980      propaganda\\n  \n",
       "35981      propaganda\\n  \n",
       "35982      propaganda\\n  \n",
       "35983      propaganda\\n  \n",
       "35984      propaganda\\n  \n",
       "35985      propaganda\\n  \n",
       "35986      propaganda\\n  \n",
       "35987      propaganda\\n  \n",
       "35988      propaganda\\n  \n",
       "35989      propaganda\\n  \n",
       "35990      propaganda\\n  \n",
       "35991      propaganda\\n  \n",
       "35992      propaganda\\n  \n",
       "\n",
       "[35993 rows x 3 columns]"
      ]
     },
     "execution_count": 18,
     "metadata": {},
     "output_type": "execute_result"
    }
   ],
   "source": [
    "df = pd.DataFrame(x, columns=[\"text\",\"article_id\",\"propaganda\"])\n",
    "df"
   ]
  },
  {
   "cell_type": "code",
   "execution_count": 19,
   "metadata": {
    "collapsed": true,
    "scrolled": true
   },
   "outputs": [],
   "source": [
    "df['propaganda'] = df['propaganda'].map({'propaganda\\n': 1, 'non-propaganda\\n': 0})"
   ]
  },
  {
   "cell_type": "code",
   "execution_count": 20,
   "metadata": {
    "scrolled": true
   },
   "outputs": [
    {
     "data": {
      "text/html": [
       "<div>\n",
       "<style scoped>\n",
       "    .dataframe tbody tr th:only-of-type {\n",
       "        vertical-align: middle;\n",
       "    }\n",
       "\n",
       "    .dataframe tbody tr th {\n",
       "        vertical-align: top;\n",
       "    }\n",
       "\n",
       "    .dataframe thead th {\n",
       "        text-align: right;\n",
       "    }\n",
       "</style>\n",
       "<table border=\"1\" class=\"dataframe\">\n",
       "  <thead>\n",
       "    <tr style=\"text-align: right;\">\n",
       "      <th></th>\n",
       "      <th>text</th>\n",
       "      <th>article_id</th>\n",
       "      <th>propaganda</th>\n",
       "    </tr>\n",
       "  </thead>\n",
       "  <tbody>\n",
       "    <tr>\n",
       "      <th>count</th>\n",
       "      <td>35993</td>\n",
       "      <td>35993</td>\n",
       "      <td>35993.000000</td>\n",
       "    </tr>\n",
       "    <tr>\n",
       "      <th>unique</th>\n",
       "      <td>35993</td>\n",
       "      <td>35993</td>\n",
       "      <td>NaN</td>\n",
       "    </tr>\n",
       "    <tr>\n",
       "      <th>top</th>\n",
       "      <td>(Adds Johnson, detail)  By Gabriela Baczynska ...</td>\n",
       "      <td>752217929</td>\n",
       "      <td>NaN</td>\n",
       "    </tr>\n",
       "    <tr>\n",
       "      <th>freq</th>\n",
       "      <td>1</td>\n",
       "      <td>1</td>\n",
       "      <td>NaN</td>\n",
       "    </tr>\n",
       "    <tr>\n",
       "      <th>mean</th>\n",
       "      <td>NaN</td>\n",
       "      <td>NaN</td>\n",
       "      <td>0.111716</td>\n",
       "    </tr>\n",
       "    <tr>\n",
       "      <th>std</th>\n",
       "      <td>NaN</td>\n",
       "      <td>NaN</td>\n",
       "      <td>0.315021</td>\n",
       "    </tr>\n",
       "    <tr>\n",
       "      <th>min</th>\n",
       "      <td>NaN</td>\n",
       "      <td>NaN</td>\n",
       "      <td>0.000000</td>\n",
       "    </tr>\n",
       "    <tr>\n",
       "      <th>25%</th>\n",
       "      <td>NaN</td>\n",
       "      <td>NaN</td>\n",
       "      <td>0.000000</td>\n",
       "    </tr>\n",
       "    <tr>\n",
       "      <th>50%</th>\n",
       "      <td>NaN</td>\n",
       "      <td>NaN</td>\n",
       "      <td>0.000000</td>\n",
       "    </tr>\n",
       "    <tr>\n",
       "      <th>75%</th>\n",
       "      <td>NaN</td>\n",
       "      <td>NaN</td>\n",
       "      <td>0.000000</td>\n",
       "    </tr>\n",
       "    <tr>\n",
       "      <th>max</th>\n",
       "      <td>NaN</td>\n",
       "      <td>NaN</td>\n",
       "      <td>1.000000</td>\n",
       "    </tr>\n",
       "  </tbody>\n",
       "</table>\n",
       "</div>"
      ],
      "text/plain": [
       "                                                     text article_id  \\\n",
       "count                                               35993      35993   \n",
       "unique                                              35993      35993   \n",
       "top     (Adds Johnson, detail)  By Gabriela Baczynska ...  752217929   \n",
       "freq                                                    1          1   \n",
       "mean                                                  NaN        NaN   \n",
       "std                                                   NaN        NaN   \n",
       "min                                                   NaN        NaN   \n",
       "25%                                                   NaN        NaN   \n",
       "50%                                                   NaN        NaN   \n",
       "75%                                                   NaN        NaN   \n",
       "max                                                   NaN        NaN   \n",
       "\n",
       "          propaganda  \n",
       "count   35993.000000  \n",
       "unique           NaN  \n",
       "top              NaN  \n",
       "freq             NaN  \n",
       "mean        0.111716  \n",
       "std         0.315021  \n",
       "min         0.000000  \n",
       "25%         0.000000  \n",
       "50%         0.000000  \n",
       "75%         0.000000  \n",
       "max         1.000000  "
      ]
     },
     "execution_count": 20,
     "metadata": {},
     "output_type": "execute_result"
    }
   ],
   "source": [
    "df.describe(include='all')"
   ]
  },
  {
   "cell_type": "code",
   "execution_count": 21,
   "metadata": {},
   "outputs": [
    {
     "data": {
      "text/plain": [
       "0    31972\n",
       "1     4021\n",
       "Name: propaganda, dtype: int64"
      ]
     },
     "execution_count": 21,
     "metadata": {},
     "output_type": "execute_result"
    }
   ],
   "source": [
    "counts = df.propaganda.value_counts()\n",
    "counts"
   ]
  },
  {
   "cell_type": "code",
   "execution_count": 22,
   "metadata": {},
   "outputs": [
    {
     "data": {
      "text/plain": [
       "35993"
      ]
     },
     "execution_count": 22,
     "metadata": {},
     "output_type": "execute_result"
    }
   ],
   "source": [
    "len(df)"
   ]
  },
  {
   "cell_type": "code",
   "execution_count": 23,
   "metadata": {},
   "outputs": [
    {
     "name": "stdout",
     "output_type": "stream",
     "text": [
      "Number of Propaganda items 4021\n",
      "Number of Not Propaganda items 31972\n",
      "Total number of records 35993\n",
      "percentage of propaganda items 11.17%\n"
     ]
    }
   ],
   "source": [
    "# This is a highly skewed dataset. There are only 4021 \n",
    "print(\"Number of Propaganda items\", counts[1])\n",
    "print(\"Number of Not Propaganda items\", counts[0])\n",
    "print(\"Total number of records\", len(df))\n",
    "percentage = (counts[1]*100)/len(df)\n",
    "\n",
    "print(\"percentage of propaganda items {0:.2f}%\".format(percentage))"
   ]
  },
  {
   "cell_type": "code",
   "execution_count": 24,
   "metadata": {
    "collapsed": true
   },
   "outputs": [],
   "source": [
    "values = df['propaganda'].value_counts().keys().tolist()\n",
    "counts = df['propaganda'].value_counts().tolist()"
   ]
  },
  {
   "cell_type": "code",
   "execution_count": 25,
   "metadata": {},
   "outputs": [
    {
     "name": "stdout",
     "output_type": "stream",
     "text": [
      "0\n",
      "1\n"
     ]
    }
   ],
   "source": [
    "for i in values:\n",
    "    print(i)"
   ]
  },
  {
   "cell_type": "code",
   "execution_count": 26,
   "metadata": {
    "scrolled": true
   },
   "outputs": [
    {
     "name": "stdout",
     "output_type": "stream",
     "text": [
      "Et tu, Rhody?  A recent editorial in the Providence Journal cataloged everything it could find wrong with Connecticut and ended with this suggestion: “Gov. Gina Raimondo should see if at least some of those jobs could come to Rhode Island. It is certainly less risky than the Nutmeg State.”  We beg your pardon.  The state with world-famous pension problems and persistent economic issues of its own is “less risky”?  The Journal itself reported just a few weeks ago on Rhode Island’s own significant economic problems, which in many ways reflect Connecticut’s.  Rhode Island enjoys a legacy of corruption that not even Connecticut can match. The ProJo won a Pulitzer Prize in 1994 for uncovering widespread corruption within its own court system.  What, exactly, is to be gained from moving to Rhode Island?  Like Connecticut, Rhode Island has an income tax and an estate tax with comparable rates. (Forbes magazine listed it as one of the states “Where Not To Die.” Connecticut made the list, too.)  Connecticut and Rhode Island’s interdependence has been limited, with the exception of the interstate economy created by Electric Boat in Groton. There have been no border wars and very little bloodshed. A few jokes about Rhode Island’s size, maybe, but if we’re being honest, Connecticut doesn’t really have a lot going on in that department either.  A little interstate competition is fine, but if Connecticut suffers, so does Rhode Island — and all of New England, for that matter.  Connecticut is losing residents at a troubling rate, but Rhode Island has an outmigration problem of its own. From 2015 to 2016, the Ocean State experienced a net loss of about 2,000 tax filers, who took with them more than $182 million in adjusted gross income. The top destination states for people who fled Rhode Island were Massachusetts, Florida and — wait for it — Connecticut.  Connecticut residents moved to Rhode Island as well, of course. But Connecticut’s population is 3½ times as big as Rhode Island’s. So the 1,175 tax filers who left Rhode Island for Connecticut represent a far larger portion of the Ocean State than the 1,220 who moved from Connecticut to Rhode Island. If any state should be concerned about losing residents to its neighbor, it’s Rhode Island.  But we don’t want to poach Rhode Islanders. We’d rather celebrate Electric Boat’s growth and the burgeoning workforce that supports both states. We’d rather cheer CVS for buying Aetna and keeping it in Hartford than try to woo CVS from Woonsocket.  A booming Connecticut, especially in the insurance and defense industries, only helps Rhode Island.  As Electric Boat — headquartered in Connecticut, might we emphasize — grows over the next decade, the effect on Little Rhody will be profound, as the ProJo’s editorial board pointed out. A thriving border economy helps both states as supplier chains develop and as feeder businesses bloom.  But for the same reasons that the stain of a Hartford bankruptcy would spread to the suburbs, if Connecticut becomes an economic wasteland, the effects would be felt across New England.  If Rhode Island and Connecticut want to find a way out of the muck, far better for them to work together.  Yes, Connecticut can learn from Rhode Island. Connecticut’s pension problems are similar to those that threatened to swamp Rhode Island, but there are key differences, especially in that Connecticut’s pensions are contractual, where in Rhode Island, they were set by state statute.  Rhode Island made some tough choices and anticipated a legal battle to solve its problems. Connecticut leaders might have to find the stomach for the same type of strategy.  Connecticut and Rhode Island have a lot in common, including language. We both drive around the rotary to get a grinder at Cumbie’s, for example. And we are glad that Rhode Island has made progress on its pension issues.  But that’s no reason to try to poach a few residents. A regional approach would be much wiser.\n",
      "==================================================\n",
      "© Saul Loeb Image: Members of Congress attend the State of the UnionMembers of Congress look on as President Donald Trump delivers the State of the Union address at the U.S. Capitol in Washington, on Jan. 30, 2018.  WASHINGTON — President Donald Trump called Democrats' stone-faced reaction to his State of the Union address \"treasonous\" and \"un-American\" during a visit to a manufacturing plant in Cincinnati, Ohio Monday.  Trump described Republicans \"going totally crazy wild\" during his State of the Union remarks one week ago, while Democrats remained seated and stone-faced for the majority of the speech. \"They were like death,\" Trump lamented. \"And un-American. Un-American.\"  But the reaction, he said, was also something much worse.  Vaguely noting that \"someone\" called the Democratic reactions \"'treasonous,'\" Trump said he agreed. \"I mean, yeah, I guess. Why not?...Can we call that treason? Why not? I mean, they certainly didn't seem to love our country very much.\"  Though the word has gotten plenty of attention in Washington of late, not standing during a speech certainly does not count as treason.  Trump's speech — billed by the White House as another push for the newly-passed Republican tax plan and \"not a political event\" — swung wildly from the tax package's finer selling points to the president's rosy outlook on 2018 while he leveled hard knocks against Democrats, specifically House Minority Leader Nancy Pelosi. As Trump spoke, the stock markets he once used as an example of his positive impact on the economy continued their downward slide.  \"[Pelosi]'s our secret weapon,\" Trump told the Ohio crowd. \"No, she's our secret weapon. I just hope they don't change her,\" he said, referencing Democrats who \"want to run her out\" of her leadership post.  The anti-Pelosi playbook isn't a new one, but it's one Republicans seem likely to brandish again as the 2018 midterms draw near. Recently, Vice President Mike Pence, top Republicans, and even Trump himself have seized on Pelosi's comments likening American monetary gains from the GOP tax bill to \"crumbs\"— a gaffe the president likened to Hillary Clinton's \"deplorables\" comment during the 2016 election.  Though historically the party in the White House faces tough losses in their first midterm election, President Trump believed he had the root of the problem in hand: electorate complacency.  \"I think I figured it out,\" he said, describing voters as \"happy\" in the aftermath of their side winning the White House, while the other party's supporters are \"desperate\" for a win and thusly more willing to get out and vote in midterm election years.  \"In the midterms, we've got to get out there and win,\" Trump decided, tagging Pelosi, and Senator Minority Leader Chuck Schumer as \"so far left.\"  Trump then doled out at least a partial endorsement of GOP Senate hopeful and current congressman Jim Rinacci, pressing Ohioans to \"get Jim in\" and help Republicans earn \"tremendous success\" in 2018. \"If we don't, we're just foolish,\" Trump chided.  The president was looking past the midterms, too. \"We want to do great in '18, and we're going to do really well in '20,\" he said. \"That's when we go again and we keep this great journey going, okay?\"  But to get there, Trump will first have to overcome the ongoing Russia probe into his campaign's alleged collusion with the Kremlin. A newly-released, controversial Republican memo seeks to discredit information gathering tactics by the FBI and Justice Department, but doesn't actually vindicate Trump despite his tweets over the weekend claiming it did.  On Monday, the president celebrated catching \"them in the act,\" speaking in veiled terms but in an apparent reference to political opponents and law enforcement officials as he made the case for electing more Republicans to Congress.  \"We need them badly too, or it all goes back to where it was and worse,\" he said, interrupting himself to glorify the memo. \"Boy, did we catch them in the act or what? You know what I'm talking about. Oh, did we catch them in the act. They are very embarrassed. They never thought they were gonna get caught. We caught 'em...It's so much fun, we're like the great sleuth.\"  Though the White House did not draft the memo, they did support its public release. It remains unclear if they will come to the same conclusion with a corresponding memo from Democrats on the same topic.  The White House maintained before the rally that there was \"no consideration about any personnel moves at the Department of Justice\" when asked about Trump's confidence in Deputy Attorney General Rod Rosenstein, one of the top DOJ officials named in the memo.  But that doesn't mean the memo won't herald any change at all. Asked about a second special counsel to look into the DOJ and FBI, White House Principal Deputy Press Secretary *Raj Shah* told reporters aboard Air Force One Monday the president's personal attorney \"have called for further review and a second special counsel.\"\n",
      "==================================================\n",
      "© The Associated Press Cyrial Ramaphosa was elected South African president on Thursday, a day after the resignation of Jacob Zuma.  Cyril Ramaphosa has been elected as South Africa's president just hours after the country's scandal-plagued leader Jacob Zuma resigned on Wednesday.  Zuma heeded the orders of the ruling African National Congress to end to his nine years in power.  The ANC, which replaced Zuma as party leader in December with then Deputy President Ramaphosa, had ordered him to step down on Tuesday. When Zuma failed to resign, it announced it would back an opposition motion in parliament to force him out.  Ramaphosa, 65, has put the focus on rooting out corruption and revitalizing economic growth.\n",
      "==================================================\n",
      "Do you have the same taste in TV as the majority of the people in your state? The folks over at satellite provider USDish.com put together a map of the most popular '90s sitcom in each of the 50 states.  The company's data is from Google search interest from 2004 to the present, capturing the tail end of the run of some of these shows and the beginning of an era of fans constantly watching reruns on TV. It's no surprise that the universally popular Friends dominates the map, with 13 states claiming it as their most-watched show. It is not, however, New York's most-watched show: fellow New York City-set series Seinfeld has that honor. Out of the Friends contingent, six are states in the Midwest: perhaps these viewers are dreaming of leaving cornfields behind and moving to The City That Never Sleeps.  The Fresh Prince of Bel-Air came in second as the favorite of four states (Maryland, Georgia, North Carolina, and South Carolina) plus Washington, D.C. Weirdly, Pennsylvania isn't in this group: Pennsylvanians' fave program is Step by Step. It's also the only state to choose Step by Step. Guess they really love family in PA!  There are a few other instances in which a show is claimed by the state in which it's set: Washington loves Seattle-centric Frasier; Ohio roots for the Cleveland-set Drew Carey Show; andWisconsin can't stop watching That '70s Show, which is set in fictional Point Place, Wisconsin.  Utah supports 3rd Rock from the Sun, which makes sense given that the state is a hotbed for UFO sightings. What about California, home of Hollywood and the beautiful people in the film and TV biz? Well, those beautiful people like to watch yellow cartoon people. That's right, The Simpsons is Cali's most-loved show.  See the map below and visit USDish.com for an in-depth look at the data.  © Provided by The Week Publications Each State’s Favorite Sitcom from the ’90s\n",
      "==================================================\n"
     ]
    }
   ],
   "source": [
    "# printing some random posts\n",
    "sent_0 = df['text'].values[0]\n",
    "print(sent_0)\n",
    "print(\"=\"*50)\n",
    "\n",
    "sent_1000 = df['text'].values[1000]\n",
    "print(sent_1000)\n",
    "print(\"=\"*50)\n",
    "\n",
    "sent_1500 = df['text'].values[1500]\n",
    "print(sent_1500)\n",
    "print(\"=\"*50)\n",
    "\n",
    "sent_4900 = df['text'].values[4900]\n",
    "print(sent_4900)\n",
    "print(\"=\"*50)"
   ]
  },
  {
   "cell_type": "code",
   "execution_count": 27,
   "metadata": {
    "collapsed": true
   },
   "outputs": [],
   "source": [
    "# Doing some basic preprocessing \n",
    "\n",
    "# https://stackoverflow.com/a/47091490/4084039\n",
    "import re\n",
    "\n",
    "def decontracted(phrase):\n",
    "    # specific\n",
    "    phrase = re.sub(r\"won't\", \"will not\", phrase)\n",
    "    phrase = re.sub(r\"can\\'t\", \"can not\", phrase)\n",
    "\n",
    "    # general\n",
    "    phrase = re.sub(r\"n\\'t\", \" not\", phrase)\n",
    "    phrase = re.sub(r\"\\'re\", \" are\", phrase)\n",
    "    phrase = re.sub(r\"\\'s\", \" is\", phrase)\n",
    "    phrase = re.sub(r\"\\'d\", \" would\", phrase)\n",
    "    phrase = re.sub(r\"\\'ll\", \" will\", phrase)\n",
    "    phrase = re.sub(r\"\\'t\", \" not\", phrase)\n",
    "    phrase = re.sub(r\"\\'ve\", \" have\", phrase)\n",
    "    phrase = re.sub(r\"\\'m\", \" am\", phrase)\n",
    "    return phrase"
   ]
  },
  {
   "cell_type": "code",
   "execution_count": 28,
   "metadata": {
    "collapsed": true
   },
   "outputs": [],
   "source": [
    "#NLTK STOPWORDS\n",
    "from nltk.corpus import stopwords\n",
    "stopWords = set(stopwords.words('english'))\n",
    "\n",
    "\n",
    "# MY STOPWORDS\n",
    "stopwords= set(['br', 'the', 'i', 'me', 'my', 'myself', 'we', 'our', 'ours', 'ourselves', 'you', \"you're\", \"you've\",\\\n",
    "            \"you'll\", \"you'd\", 'your', 'yours', 'yourself', 'yourselves', 'he', 'him', 'his', 'himself', \\\n",
    "            'she', \"she's\", 'her', 'hers', 'herself', 'it', \"it's\", 'its', 'itself', 'they', 'them', 'their',\\\n",
    "            'theirs', 'themselves', 'what', 'which', 'who', 'whom', 'this', 'that', \"that'll\", 'these', 'those', \\\n",
    "            'am', 'is', 'are', 'was', 'were', 'be', 'been', 'being', 'have', 'has', 'had', 'having', 'do', 'does', \\\n",
    "            'did', 'doing', 'a', 'an', 'the', 'and', 'but', 'if', 'or', 'because', 'as', 'until', 'while', 'of', \\\n",
    "            'at', 'by', 'for', 'with', 'about', 'against', 'between', 'into', 'through', 'during', 'before', 'after',\\\n",
    "            'above', 'below', 'to', 'from', 'up', 'down', 'in', 'out', 'on', 'off', 'over', 'under', 'again', 'further',\\\n",
    "            'then', 'once', 'here', 'there', 'when', 'where', 'why', 'how', 'all', 'any', 'both', 'each', 'few', 'more',\\\n",
    "            'most', 'other', 'some', 'such', 'only', 'own', 'same', 'so', 'than', 'too', 'very', \\\n",
    "            's', 't', 'can', 'will', 'just', 'don', \"don't\", 'should', \"should've\", 'now', 'd', 'll', 'm', 'o', 're', \\\n",
    "            've', 'y', 'ain', 'aren', \"aren't\", 'couldn', \"couldn't\", 'didn', \"didn't\", 'doesn', \"doesn't\", 'hadn',\\\n",
    "            \"hadn't\", 'hasn', \"hasn't\", 'haven', \"haven't\", 'isn', \"isn't\", 'ma', 'mightn', \"mightn't\", 'mustn',\\\n",
    "            \"mustn't\", 'needn', \"needn't\", 'shan', \"shan't\", 'shouldn', \"shouldn't\", 'wasn', \"wasn't\", 'weren', \"weren't\", \\\n",
    "            'won', \"won't\", 'wouldn', \"wouldn't\", \"no\", \"nor\",\"not\"])"
   ]
  },
  {
   "cell_type": "code",
   "execution_count": null,
   "metadata": {},
   "outputs": [
    {
     "name": "stderr",
     "output_type": "stream",
     "text": [
      " 41%|████      | 14613/35993 [00:23<00:34, 619.75it/s]"
     ]
    }
   ],
   "source": [
    "# Combining all the above stundents \n",
    "from tqdm import tqdm\n",
    "preprocessed_text = []\n",
    "# tqdm is for printing the status bar\n",
    "for sentance in tqdm(df['text'].values):\n",
    "    sentance = re.sub(r\"http\\S+\", \"\", sentance)\n",
    "    sentance = BeautifulSoup(sentance, 'lxml').get_text()\n",
    "    sentance = decontracted(sentance)\n",
    "    sentance = re.sub(\"\\S*\\d\\S*\", \"\", sentance).strip()\n",
    "    sentance = re.sub('[^A-Za-z]+', ' ', sentance)\n",
    "    # https://gist.github.com/sebleier/554280\n",
    "    sentance = ' '.join(e.lower() for e in sentance.split() if e.lower() not in stopwords)\n",
    "    preprocessed_text.append(sentance.strip())"
   ]
  },
  {
   "cell_type": "code",
   "execution_count": null,
   "metadata": {},
   "outputs": [],
   "source": [
    "preprocessed_text[0]"
   ]
  },
  {
   "cell_type": "code",
   "execution_count": null,
   "metadata": {
    "collapsed": true
   },
   "outputs": [],
   "source": [
    "# Writing the preprocessed text back into the Dataframe Final\n",
    "df[\"Cleaned_Text\"] = preprocessed_text"
   ]
  },
  {
   "cell_type": "code",
   "execution_count": null,
   "metadata": {
    "collapsed": true
   },
   "outputs": [],
   "source": [
    "final = df"
   ]
  },
  {
   "cell_type": "code",
   "execution_count": null,
   "metadata": {
    "scrolled": true
   },
   "outputs": [],
   "source": [
    "final.head()"
   ]
  },
  {
   "cell_type": "markdown",
   "metadata": {},
   "source": [
    "# Splitting into Train and Test"
   ]
  },
  {
   "cell_type": "code",
   "execution_count": null,
   "metadata": {
    "collapsed": true
   },
   "outputs": [],
   "source": [
    "restart_here = final.copy()"
   ]
  },
  {
   "cell_type": "code",
   "execution_count": null,
   "metadata": {},
   "outputs": [],
   "source": [
    "# Ordering the dataset\n",
    "final = restart_here\n",
    "\n",
    "# Splitting the dataset into Train, Test.\n",
    "# Let's go for an 80 - 20 split.\n",
    "labels = final[\"propaganda\"]\n",
    "finals = final.drop(columns=[\"propaganda\"], axis=1, inplace=False)\n",
    "\n",
    "from sklearn.model_selection import train_test_split\n",
    "X_train, X_test, y_train, y_test = train_test_split(finals, labels, test_size=0.2, random_state=42)\n",
    "print(len(X_train))\n",
    "print(len(X_test))"
   ]
  },
  {
   "cell_type": "code",
   "execution_count": null,
   "metadata": {},
   "outputs": [],
   "source": [
    "finals.head()"
   ]
  },
  {
   "cell_type": "markdown",
   "metadata": {},
   "source": [
    "# BAG OF WORDS"
   ]
  },
  {
   "cell_type": "code",
   "execution_count": null,
   "metadata": {
    "collapsed": true
   },
   "outputs": [],
   "source": [
    "from sklearn.feature_extraction.text import TfidfTransformer\n",
    "from sklearn.feature_extraction.text import TfidfVectorizer\n",
    "\n",
    "from sklearn.feature_extraction.text import CountVectorizer\n",
    "from sklearn.metrics import confusion_matrix\n",
    "from sklearn import metrics\n",
    "from sklearn.metrics import roc_curve, auc\n",
    "from nltk.stem.porter import PorterStemmer\n"
   ]
  },
  {
   "cell_type": "code",
   "execution_count": null,
   "metadata": {
    "collapsed": true
   },
   "outputs": [],
   "source": []
  },
  {
   "cell_type": "code",
   "execution_count": null,
   "metadata": {
    "collapsed": true
   },
   "outputs": [],
   "source": [
    "#BoW\n",
    "count_vect = CountVectorizer() #in scikit-learn\n",
    "count_vect.fit(preprocessed_text)\n",
    "print(\"some feature names \", count_vect.get_feature_names()[:10])\n",
    "print('='*50)\n",
    "\n",
    "final_counts = count_vect.transform(preprocessed_text)\n",
    "print(\"the type of count vectorizer \",type(final_counts))\n",
    "print(\"the shape of out text BOW vectorizer \",final_counts.get_shape())\n",
    "print(\"the number of unique words \", final_counts.get_shape()[1])"
   ]
  },
  {
   "cell_type": "code",
   "execution_count": null,
   "metadata": {
    "collapsed": true
   },
   "outputs": [],
   "source": [
    "from sklearn.neighbors import KNeighborsClassifier"
   ]
  },
  {
   "cell_type": "code",
   "execution_count": null,
   "metadata": {
    "collapsed": true
   },
   "outputs": [],
   "source": [
    "\n",
    "# Please write all the code with proper documentation\n",
    "def bag_of_words(train_data, test_data, validation_data = None):\n",
    "    count_vect = CountVectorizer() #in scikit-learn\n",
    "    count_vect.fit(train_data)\n",
    "    print(\"some feature names \", count_vect.get_feature_names()[:10])\n",
    "    print('='*50)\n",
    "    train_data_vectorized = count_vect.transform(train_data)\n",
    "    test_data_vectorized = count_vect.transform(test_data)\n",
    "    if validation_data:\n",
    "        validation_data_vectorized = count_vect.tranform(validation_data)\n",
    "    else:\n",
    "        validation_data_vectorized = None\n",
    "    print(\"the type of count vectorizer \",type(train_data_vectorized))\n",
    "    print(\"the shape of out text BOW vectorizer \",train_data_vectorized.get_shape())\n",
    "    print(\"the number of unique words \", train_data_vectorized.get_shape()[1])\n",
    "    return train_data_vectorized, test_data_vectorized"
   ]
  },
  {
   "cell_type": "code",
   "execution_count": null,
   "metadata": {},
   "outputs": [],
   "source": [
    "train_data_vectorized , test_data_vectorized = bag_of_words(X_train[\"text\"], X_test[\"text\"])"
   ]
  },
  {
   "cell_type": "code",
   "execution_count": null,
   "metadata": {
    "collapsed": true,
    "scrolled": true
   },
   "outputs": [],
   "source": []
  },
  {
   "cell_type": "code",
   "execution_count": 29,
   "metadata": {},
   "outputs": [
    {
     "name": "stdout",
     "output_type": "stream",
     "text": [
      "Fitting 3 folds for each of 5 candidates, totalling 15 fits\n"
     ]
    },
    {
     "name": "stderr",
     "output_type": "stream",
     "text": [
      "[Parallel(n_jobs=2)]: Using backend LokyBackend with 2 concurrent workers.\n",
      "[Parallel(n_jobs=2)]: Done  15 out of  15 | elapsed: 30.6min finished\n"
     ]
    },
    {
     "data": {
      "text/plain": [
       "GridSearchCV(cv=3, error_score='raise-deprecating',\n",
       "       estimator=KNeighborsClassifier(algorithm='auto', leaf_size=30, metric='minkowski',\n",
       "           metric_params=None, n_jobs=None, n_neighbors=5, p=2,\n",
       "           weights='uniform'),\n",
       "       fit_params=None, iid='warn', n_jobs=2,\n",
       "       param_grid={'n_neighbors': range(1, 10, 2)},\n",
       "       pre_dispatch='2*n_jobs', refit=True, return_train_score='warn',\n",
       "       scoring=None, verbose=2)"
      ]
     },
     "execution_count": 29,
     "metadata": {},
     "output_type": "execute_result"
    }
   ],
   "source": [
    "from sklearn.model_selection import GridSearchCV\n",
    "\n",
    "knn = KNeighborsClassifier()\n",
    "n_list = range(1,10,2)\n",
    "parameters = {\"n_neighbors\":n_list}\n",
    "clf = GridSearchCV(knn, parameters, cv=3, verbose=2, n_jobs=2)\n",
    "clf.fit(train_data_vectorized,y_train)"
   ]
  },
  {
   "cell_type": "code",
   "execution_count": 30,
   "metadata": {},
   "outputs": [
    {
     "data": {
      "text/plain": [
       "{'n_neighbors': 7}"
      ]
     },
     "execution_count": 30,
     "metadata": {},
     "output_type": "execute_result"
    }
   ],
   "source": [
    "clf.best_params_"
   ]
  },
  {
   "cell_type": "code",
   "execution_count": 32,
   "metadata": {},
   "outputs": [
    {
     "data": {
      "text/plain": [
       "0.9104042228087235"
      ]
     },
     "execution_count": 32,
     "metadata": {},
     "output_type": "execute_result"
    }
   ],
   "source": [
    "clf2 = KNeighborsClassifier(n_neighbors=7)\n",
    "clf2.fit(train_data_vectorized,y_train)\n",
    "clf2.score(test_data_vectorized,y_test)\n"
   ]
  },
  {
   "cell_type": "code",
   "execution_count": 34,
   "metadata": {
    "collapsed": true
   },
   "outputs": [],
   "source": [
    "y_pred = clf2.predict(test_data_vectorized)\n",
    "y_true = y_test"
   ]
  },
  {
   "cell_type": "code",
   "execution_count": 41,
   "metadata": {},
   "outputs": [
    {
     "name": "stdout",
     "output_type": "stream",
     "text": [
      "0.48192771084337344\n",
      "0.3671970624235006\n",
      "0.7009345794392523\n"
     ]
    }
   ],
   "source": [
    "from sklearn.metrics import f1_score\n",
    "from sklearn.metrics import precision_score\n",
    "from sklearn.metrics import recall_score\n",
    "\n",
    "print(f1_score(y_true, y_pred))\n",
    "print(recall_score(y_true, y_pred))\n",
    "print(precision_score(y_true, y_pred))\n",
    "\n",
    "# >>> y_true = [0, 1, 2, 0, 1, 2]\n",
    "# >>> y_pred = [0, 2, 1, 0, 0, 1]\n",
    "# >>> f1_score(y_true, y_pred, average='macro')  "
   ]
  },
  {
   "cell_type": "code",
   "execution_count": null,
   "metadata": {
    "collapsed": true
   },
   "outputs": [],
   "source": [
    "from sklearn.naive_bayes import GaussianNB\n",
    "gnb = GaussianNB()\n",
    "train_data_vectorized_dense = train_data_vectorized.toarray()\n",
    "test_data_vectorized_dense = test_data_vectorized.toarray()\n",
    "gnb.fit(train_data_vectorized_dense,y_train)\n",
    "gnb_pred = gnb.predict(test_data_vectorized_dense,y_test)"
   ]
  },
  {
   "cell_type": "code",
   "execution_count": null,
   "metadata": {
    "collapsed": true
   },
   "outputs": [],
   "source": [
    "from sklearn.metrics import f1_score\n",
    "from sklearn.metrics import precision_score\n",
    "from sklearn.metrics import recall_score\n",
    "\n",
    "print(f1_score(y_true, gnb_pred))\n",
    "print(recall_score(y_true, gnb_pred))\n",
    "print(precision_score(y_true, gnb_pred))\n",
    "\n",
    "# >>> y_true = [0, 1, 2, 0, 1, 2]\n",
    "# >>> y_pred = [0, 2, 1, 0, 0, 1]\n",
    "# >>> f1_score(y_true, y_pred, average='macro')  "
   ]
  },
  {
   "cell_type": "code",
   "execution_count": null,
   "metadata": {
    "collapsed": true
   },
   "outputs": [],
   "source": [
    "from sklearn import svm, datasets\n",
    ">>> from sklearn.model_selection import GridSearchCV\n",
    ">>> iris = datasets.load_iris()\n",
    ">>> parameters = {'kernel':('linear', 'rbf'), 'C':[1, 10]}\n",
    ">>> svc = svm.SVC(gamma=\"scale\")\n",
    ">>> clf = GridSearchCV(svc, parameters, cv=5)\n",
    ">>> clf.fit(iris.data, iris.target)\n",
    "...                             \n",
    "GridSearchCV(cv=5, error_score=...,\n",
    "       estimator=SVC(C=1.0, cache_size=..., class_weight=..., coef0=...,\n",
    "                     decision_function_shape='ovr', degree=..., gamma=...,\n",
    "                     kernel='rbf', max_iter=-1, probability=False,\n",
    "                     random_state=None, shrinking=True, tol=...,\n",
    "                     verbose=False),\n",
    "       fit_params=None, iid=..., n_jobs=None,\n",
    "       param_grid=..., pre_dispatch=..., refit=..., return_train_score=...,\n",
    "       scoring=..., verbose=...)\n",
    ">>> sorted(clf.cv_results_.keys())\n",
    "...                             \n",
    "['mean_fit_time', 'mean_score_time', 'mean_test_score',...\n",
    " 'mean_train_score', 'param_C', 'param_kernel', 'params',...\n",
    " 'rank_test_score', 'split0_test_score',...\n",
    " 'split0_train_score', 'split1_test_score', 'split1_train_score',...\n",
    " 'split2_test_score', 'split2_train_score',...\n",
    " 'std_fit_time', 'std_score_time', 'std_test_score', 'std_train_score'...]\n"
   ]
  },
  {
   "cell_type": "code",
   "execution_count": null,
   "metadata": {
    "collapsed": true
   },
   "outputs": [],
   "source": []
  }
 ],
 "metadata": {
  "kernelspec": {
   "display_name": "Python 3",
   "language": "python",
   "name": "python3"
  },
  "language_info": {
   "codemirror_mode": {
    "name": "ipython",
    "version": 3
   },
   "file_extension": ".py",
   "mimetype": "text/x-python",
   "name": "python",
   "nbconvert_exporter": "python",
   "pygments_lexer": "ipython3",
   "version": "3.6.6"
  }
 },
 "nbformat": 4,
 "nbformat_minor": 2
}
